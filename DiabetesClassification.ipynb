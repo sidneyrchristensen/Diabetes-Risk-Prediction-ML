{
  "nbformat": 4,
  "nbformat_minor": 0,
  "metadata": {
    "colab": {
      "provenance": []
    },
    "kernelspec": {
      "name": "python3",
      "display_name": "Python 3"
    },
    "language_info": {
      "name": "python"
    }
  },
  "cells": [
    {
      "cell_type": "markdown",
      "source": [
        "# Exploring Various Machine Learning Algorithms & Optimizations to Predict Diabetes Diagnosis"
      ],
      "metadata": {
        "id": "dweWwYk4lCAJ"
      }
    },
    {
      "cell_type": "markdown",
      "source": [
        "*Notebook by Sidney Christensen*"
      ],
      "metadata": {
        "id": "Gu0ZaISblNsp"
      }
    },
    {
      "cell_type": "markdown",
      "source": [
        "![diabetes_pic.jpg](data:image/jpeg;base64,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)"
      ],
      "metadata": {
        "id": "5I18AktOh5PF"
      }
    },
    {
      "cell_type": "markdown",
      "source": [
        "**Importing Libraries**"
      ],
      "metadata": {
        "id": "fCFz1xJhGjNN"
      }
    },
    {
      "cell_type": "code",
      "source": [
        "# Standard libraries\n",
        "import pandas as pd\n",
        "import numpy as np\n",
        "from scipy import stats\n",
        "\n",
        "# Data preprocessing and visualization\n",
        "from sklearn.model_selection import train_test_split\n",
        "from sklearn.preprocessing import StandardScaler\n",
        "from sklearn.utils import class_weight\n",
        "import seaborn as sns\n",
        "import matplotlib.pyplot as plt\n",
        "\n",
        "# Model evaluation\n",
        "from sklearn.metrics import classification_report, accuracy_score\n",
        "\n",
        "# XGBoost\n",
        "import xgboost as xgb\n",
        "from sklearn.model_selection import GridSearchCV\n",
        "\n",
        "# Hyperparameter optimization\n",
        "from hyperopt import fmin, tpe, hp, STATUS_OK\n",
        "\n",
        "# Deep Learning with TensorFlow/Keras\n",
        "from tensorflow.keras.models import Sequential\n",
        "from tensorflow.keras.layers import Dense, Dropout\n",
        "from tensorflow.keras.optimizers import Adam\n",
        "from tensorflow.keras.callbacks import EarlyStopping\n",
        "from tensorflow.keras.regularizers import l1"
      ],
      "metadata": {
        "id": "K2c5cl1dh9CI"
      },
      "execution_count": 4,
      "outputs": []
    },
    {
      "cell_type": "markdown",
      "source": [
        "**Read in data and explore five random samples**"
      ],
      "metadata": {
        "id": "N4sJayDNiPHP"
      }
    },
    {
      "cell_type": "code",
      "source": [
        "df = pd.read_csv(\"diabetes.csv\")\n",
        "df = df.drop('DoctorInCharge', axis=1)\n",
        "df.sample(5)\n",
        "#did sample instead to get five random samples"
      ],
      "metadata": {
        "colab": {
          "base_uri": "https://localhost:8080/",
          "height": 255
        },
        "id": "7Bi3NfHpiBhu",
        "outputId": "6c5ffdac-b9e2-4249-c232-e974faeba0bc"
      },
      "execution_count": 5,
      "outputs": [
        {
          "output_type": "execute_result",
          "data": {
            "text/plain": [
              "      PatientID  Age  Gender  Ethnicity  SocioeconomicStatus  EducationLevel  \\\n",
              "1174       7174   24       1          0                    1               2   \n",
              "53         6053   76       0          1                    1               3   \n",
              "1779       7779   26       0          0                    1               1   \n",
              "1498       7498   25       0          0                    0               2   \n",
              "1716       7716   57       1          0                    1               2   \n",
              "\n",
              "            BMI  Smoking  AlcoholConsumption  PhysicalActivity  ...  \\\n",
              "1174  18.475936        0           12.649018          3.633973  ...   \n",
              "53    29.412567        0            0.160007          2.109565  ...   \n",
              "1779  20.314685        1            8.232049          2.763725  ...   \n",
              "1498  22.987636        0            1.954333          6.183284  ...   \n",
              "1716  32.250228        0           18.868581          0.458973  ...   \n",
              "\n",
              "      SlowHealingSores  TinglingHandsFeet  QualityOfLifeScore  \\\n",
              "1174                 1                  0           92.082076   \n",
              "53                   0                  0           20.541060   \n",
              "1779                 0                  0            0.945119   \n",
              "1498                 0                  0           44.913559   \n",
              "1716                 0                  0           11.626368   \n",
              "\n",
              "      HeavyMetalsExposure  OccupationalExposureChemicals  WaterQuality  \\\n",
              "1174                    0                              0             0   \n",
              "53                      0                              0             0   \n",
              "1779                    0                              0             0   \n",
              "1498                    0                              0             0   \n",
              "1716                    0                              0             0   \n",
              "\n",
              "      MedicalCheckupsFrequency  MedicationAdherence  HealthLiteracy  Diagnosis  \n",
              "1174                  3.129540             3.610995        1.930360          0  \n",
              "53                    3.802032             3.374831        2.078453          0  \n",
              "1779                  0.813098             2.844708        5.595804          1  \n",
              "1498                  0.670037             5.460609        8.544138          1  \n",
              "1716                  3.175395             0.436009        3.608502          0  \n",
              "\n",
              "[5 rows x 45 columns]"
            ],
            "text/html": [
              "\n",
              "  <div id=\"df-cc8a1337-4a1e-4266-b3e3-53bdc4165718\" class=\"colab-df-container\">\n",
              "    <div>\n",
              "<style scoped>\n",
              "    .dataframe tbody tr th:only-of-type {\n",
              "        vertical-align: middle;\n",
              "    }\n",
              "\n",
              "    .dataframe tbody tr th {\n",
              "        vertical-align: top;\n",
              "    }\n",
              "\n",
              "    .dataframe thead th {\n",
              "        text-align: right;\n",
              "    }\n",
              "</style>\n",
              "<table border=\"1\" class=\"dataframe\">\n",
              "  <thead>\n",
              "    <tr style=\"text-align: right;\">\n",
              "      <th></th>\n",
              "      <th>PatientID</th>\n",
              "      <th>Age</th>\n",
              "      <th>Gender</th>\n",
              "      <th>Ethnicity</th>\n",
              "      <th>SocioeconomicStatus</th>\n",
              "      <th>EducationLevel</th>\n",
              "      <th>BMI</th>\n",
              "      <th>Smoking</th>\n",
              "      <th>AlcoholConsumption</th>\n",
              "      <th>PhysicalActivity</th>\n",
              "      <th>...</th>\n",
              "      <th>SlowHealingSores</th>\n",
              "      <th>TinglingHandsFeet</th>\n",
              "      <th>QualityOfLifeScore</th>\n",
              "      <th>HeavyMetalsExposure</th>\n",
              "      <th>OccupationalExposureChemicals</th>\n",
              "      <th>WaterQuality</th>\n",
              "      <th>MedicalCheckupsFrequency</th>\n",
              "      <th>MedicationAdherence</th>\n",
              "      <th>HealthLiteracy</th>\n",
              "      <th>Diagnosis</th>\n",
              "    </tr>\n",
              "  </thead>\n",
              "  <tbody>\n",
              "    <tr>\n",
              "      <th>1174</th>\n",
              "      <td>7174</td>\n",
              "      <td>24</td>\n",
              "      <td>1</td>\n",
              "      <td>0</td>\n",
              "      <td>1</td>\n",
              "      <td>2</td>\n",
              "      <td>18.475936</td>\n",
              "      <td>0</td>\n",
              "      <td>12.649018</td>\n",
              "      <td>3.633973</td>\n",
              "      <td>...</td>\n",
              "      <td>1</td>\n",
              "      <td>0</td>\n",
              "      <td>92.082076</td>\n",
              "      <td>0</td>\n",
              "      <td>0</td>\n",
              "      <td>0</td>\n",
              "      <td>3.129540</td>\n",
              "      <td>3.610995</td>\n",
              "      <td>1.930360</td>\n",
              "      <td>0</td>\n",
              "    </tr>\n",
              "    <tr>\n",
              "      <th>53</th>\n",
              "      <td>6053</td>\n",
              "      <td>76</td>\n",
              "      <td>0</td>\n",
              "      <td>1</td>\n",
              "      <td>1</td>\n",
              "      <td>3</td>\n",
              "      <td>29.412567</td>\n",
              "      <td>0</td>\n",
              "      <td>0.160007</td>\n",
              "      <td>2.109565</td>\n",
              "      <td>...</td>\n",
              "      <td>0</td>\n",
              "      <td>0</td>\n",
              "      <td>20.541060</td>\n",
              "      <td>0</td>\n",
              "      <td>0</td>\n",
              "      <td>0</td>\n",
              "      <td>3.802032</td>\n",
              "      <td>3.374831</td>\n",
              "      <td>2.078453</td>\n",
              "      <td>0</td>\n",
              "    </tr>\n",
              "    <tr>\n",
              "      <th>1779</th>\n",
              "      <td>7779</td>\n",
              "      <td>26</td>\n",
              "      <td>0</td>\n",
              "      <td>0</td>\n",
              "      <td>1</td>\n",
              "      <td>1</td>\n",
              "      <td>20.314685</td>\n",
              "      <td>1</td>\n",
              "      <td>8.232049</td>\n",
              "      <td>2.763725</td>\n",
              "      <td>...</td>\n",
              "      <td>0</td>\n",
              "      <td>0</td>\n",
              "      <td>0.945119</td>\n",
              "      <td>0</td>\n",
              "      <td>0</td>\n",
              "      <td>0</td>\n",
              "      <td>0.813098</td>\n",
              "      <td>2.844708</td>\n",
              "      <td>5.595804</td>\n",
              "      <td>1</td>\n",
              "    </tr>\n",
              "    <tr>\n",
              "      <th>1498</th>\n",
              "      <td>7498</td>\n",
              "      <td>25</td>\n",
              "      <td>0</td>\n",
              "      <td>0</td>\n",
              "      <td>0</td>\n",
              "      <td>2</td>\n",
              "      <td>22.987636</td>\n",
              "      <td>0</td>\n",
              "      <td>1.954333</td>\n",
              "      <td>6.183284</td>\n",
              "      <td>...</td>\n",
              "      <td>0</td>\n",
              "      <td>0</td>\n",
              "      <td>44.913559</td>\n",
              "      <td>0</td>\n",
              "      <td>0</td>\n",
              "      <td>0</td>\n",
              "      <td>0.670037</td>\n",
              "      <td>5.460609</td>\n",
              "      <td>8.544138</td>\n",
              "      <td>1</td>\n",
              "    </tr>\n",
              "    <tr>\n",
              "      <th>1716</th>\n",
              "      <td>7716</td>\n",
              "      <td>57</td>\n",
              "      <td>1</td>\n",
              "      <td>0</td>\n",
              "      <td>1</td>\n",
              "      <td>2</td>\n",
              "      <td>32.250228</td>\n",
              "      <td>0</td>\n",
              "      <td>18.868581</td>\n",
              "      <td>0.458973</td>\n",
              "      <td>...</td>\n",
              "      <td>0</td>\n",
              "      <td>0</td>\n",
              "      <td>11.626368</td>\n",
              "      <td>0</td>\n",
              "      <td>0</td>\n",
              "      <td>0</td>\n",
              "      <td>3.175395</td>\n",
              "      <td>0.436009</td>\n",
              "      <td>3.608502</td>\n",
              "      <td>0</td>\n",
              "    </tr>\n",
              "  </tbody>\n",
              "</table>\n",
              "<p>5 rows × 45 columns</p>\n",
              "</div>\n",
              "    <div class=\"colab-df-buttons\">\n",
              "\n",
              "  <div class=\"colab-df-container\">\n",
              "    <button class=\"colab-df-convert\" onclick=\"convertToInteractive('df-cc8a1337-4a1e-4266-b3e3-53bdc4165718')\"\n",
              "            title=\"Convert this dataframe to an interactive table.\"\n",
              "            style=\"display:none;\">\n",
              "\n",
              "  <svg xmlns=\"http://www.w3.org/2000/svg\" height=\"24px\" viewBox=\"0 -960 960 960\">\n",
              "    <path d=\"M120-120v-720h720v720H120Zm60-500h600v-160H180v160Zm220 220h160v-160H400v160Zm0 220h160v-160H400v160ZM180-400h160v-160H180v160Zm440 0h160v-160H620v160ZM180-180h160v-160H180v160Zm440 0h160v-160H620v160Z\"/>\n",
              "  </svg>\n",
              "    </button>\n",
              "\n",
              "  <style>\n",
              "    .colab-df-container {\n",
              "      display:flex;\n",
              "      gap: 12px;\n",
              "    }\n",
              "\n",
              "    .colab-df-convert {\n",
              "      background-color: #E8F0FE;\n",
              "      border: none;\n",
              "      border-radius: 50%;\n",
              "      cursor: pointer;\n",
              "      display: none;\n",
              "      fill: #1967D2;\n",
              "      height: 32px;\n",
              "      padding: 0 0 0 0;\n",
              "      width: 32px;\n",
              "    }\n",
              "\n",
              "    .colab-df-convert:hover {\n",
              "      background-color: #E2EBFA;\n",
              "      box-shadow: 0px 1px 2px rgba(60, 64, 67, 0.3), 0px 1px 3px 1px rgba(60, 64, 67, 0.15);\n",
              "      fill: #174EA6;\n",
              "    }\n",
              "\n",
              "    .colab-df-buttons div {\n",
              "      margin-bottom: 4px;\n",
              "    }\n",
              "\n",
              "    [theme=dark] .colab-df-convert {\n",
              "      background-color: #3B4455;\n",
              "      fill: #D2E3FC;\n",
              "    }\n",
              "\n",
              "    [theme=dark] .colab-df-convert:hover {\n",
              "      background-color: #434B5C;\n",
              "      box-shadow: 0px 1px 3px 1px rgba(0, 0, 0, 0.15);\n",
              "      filter: drop-shadow(0px 1px 2px rgba(0, 0, 0, 0.3));\n",
              "      fill: #FFFFFF;\n",
              "    }\n",
              "  </style>\n",
              "\n",
              "    <script>\n",
              "      const buttonEl =\n",
              "        document.querySelector('#df-cc8a1337-4a1e-4266-b3e3-53bdc4165718 button.colab-df-convert');\n",
              "      buttonEl.style.display =\n",
              "        google.colab.kernel.accessAllowed ? 'block' : 'none';\n",
              "\n",
              "      async function convertToInteractive(key) {\n",
              "        const element = document.querySelector('#df-cc8a1337-4a1e-4266-b3e3-53bdc4165718');\n",
              "        const dataTable =\n",
              "          await google.colab.kernel.invokeFunction('convertToInteractive',\n",
              "                                                    [key], {});\n",
              "        if (!dataTable) return;\n",
              "\n",
              "        const docLinkHtml = 'Like what you see? Visit the ' +\n",
              "          '<a target=\"_blank\" href=https://colab.research.google.com/notebooks/data_table.ipynb>data table notebook</a>'\n",
              "          + ' to learn more about interactive tables.';\n",
              "        element.innerHTML = '';\n",
              "        dataTable['output_type'] = 'display_data';\n",
              "        await google.colab.output.renderOutput(dataTable, element);\n",
              "        const docLink = document.createElement('div');\n",
              "        docLink.innerHTML = docLinkHtml;\n",
              "        element.appendChild(docLink);\n",
              "      }\n",
              "    </script>\n",
              "  </div>\n",
              "\n",
              "\n",
              "<div id=\"df-e30c6489-3ad2-49d7-84df-2f72084cf347\">\n",
              "  <button class=\"colab-df-quickchart\" onclick=\"quickchart('df-e30c6489-3ad2-49d7-84df-2f72084cf347')\"\n",
              "            title=\"Suggest charts\"\n",
              "            style=\"display:none;\">\n",
              "\n",
              "<svg xmlns=\"http://www.w3.org/2000/svg\" height=\"24px\"viewBox=\"0 0 24 24\"\n",
              "     width=\"24px\">\n",
              "    <g>\n",
              "        <path d=\"M19 3H5c-1.1 0-2 .9-2 2v14c0 1.1.9 2 2 2h14c1.1 0 2-.9 2-2V5c0-1.1-.9-2-2-2zM9 17H7v-7h2v7zm4 0h-2V7h2v10zm4 0h-2v-4h2v4z\"/>\n",
              "    </g>\n",
              "</svg>\n",
              "  </button>\n",
              "\n",
              "<style>\n",
              "  .colab-df-quickchart {\n",
              "      --bg-color: #E8F0FE;\n",
              "      --fill-color: #1967D2;\n",
              "      --hover-bg-color: #E2EBFA;\n",
              "      --hover-fill-color: #174EA6;\n",
              "      --disabled-fill-color: #AAA;\n",
              "      --disabled-bg-color: #DDD;\n",
              "  }\n",
              "\n",
              "  [theme=dark] .colab-df-quickchart {\n",
              "      --bg-color: #3B4455;\n",
              "      --fill-color: #D2E3FC;\n",
              "      --hover-bg-color: #434B5C;\n",
              "      --hover-fill-color: #FFFFFF;\n",
              "      --disabled-bg-color: #3B4455;\n",
              "      --disabled-fill-color: #666;\n",
              "  }\n",
              "\n",
              "  .colab-df-quickchart {\n",
              "    background-color: var(--bg-color);\n",
              "    border: none;\n",
              "    border-radius: 50%;\n",
              "    cursor: pointer;\n",
              "    display: none;\n",
              "    fill: var(--fill-color);\n",
              "    height: 32px;\n",
              "    padding: 0;\n",
              "    width: 32px;\n",
              "  }\n",
              "\n",
              "  .colab-df-quickchart:hover {\n",
              "    background-color: var(--hover-bg-color);\n",
              "    box-shadow: 0 1px 2px rgba(60, 64, 67, 0.3), 0 1px 3px 1px rgba(60, 64, 67, 0.15);\n",
              "    fill: var(--button-hover-fill-color);\n",
              "  }\n",
              "\n",
              "  .colab-df-quickchart-complete:disabled,\n",
              "  .colab-df-quickchart-complete:disabled:hover {\n",
              "    background-color: var(--disabled-bg-color);\n",
              "    fill: var(--disabled-fill-color);\n",
              "    box-shadow: none;\n",
              "  }\n",
              "\n",
              "  .colab-df-spinner {\n",
              "    border: 2px solid var(--fill-color);\n",
              "    border-color: transparent;\n",
              "    border-bottom-color: var(--fill-color);\n",
              "    animation:\n",
              "      spin 1s steps(1) infinite;\n",
              "  }\n",
              "\n",
              "  @keyframes spin {\n",
              "    0% {\n",
              "      border-color: transparent;\n",
              "      border-bottom-color: var(--fill-color);\n",
              "      border-left-color: var(--fill-color);\n",
              "    }\n",
              "    20% {\n",
              "      border-color: transparent;\n",
              "      border-left-color: var(--fill-color);\n",
              "      border-top-color: var(--fill-color);\n",
              "    }\n",
              "    30% {\n",
              "      border-color: transparent;\n",
              "      border-left-color: var(--fill-color);\n",
              "      border-top-color: var(--fill-color);\n",
              "      border-right-color: var(--fill-color);\n",
              "    }\n",
              "    40% {\n",
              "      border-color: transparent;\n",
              "      border-right-color: var(--fill-color);\n",
              "      border-top-color: var(--fill-color);\n",
              "    }\n",
              "    60% {\n",
              "      border-color: transparent;\n",
              "      border-right-color: var(--fill-color);\n",
              "    }\n",
              "    80% {\n",
              "      border-color: transparent;\n",
              "      border-right-color: var(--fill-color);\n",
              "      border-bottom-color: var(--fill-color);\n",
              "    }\n",
              "    90% {\n",
              "      border-color: transparent;\n",
              "      border-bottom-color: var(--fill-color);\n",
              "    }\n",
              "  }\n",
              "</style>\n",
              "\n",
              "  <script>\n",
              "    async function quickchart(key) {\n",
              "      const quickchartButtonEl =\n",
              "        document.querySelector('#' + key + ' button');\n",
              "      quickchartButtonEl.disabled = true;  // To prevent multiple clicks.\n",
              "      quickchartButtonEl.classList.add('colab-df-spinner');\n",
              "      try {\n",
              "        const charts = await google.colab.kernel.invokeFunction(\n",
              "            'suggestCharts', [key], {});\n",
              "      } catch (error) {\n",
              "        console.error('Error during call to suggestCharts:', error);\n",
              "      }\n",
              "      quickchartButtonEl.classList.remove('colab-df-spinner');\n",
              "      quickchartButtonEl.classList.add('colab-df-quickchart-complete');\n",
              "    }\n",
              "    (() => {\n",
              "      let quickchartButtonEl =\n",
              "        document.querySelector('#df-e30c6489-3ad2-49d7-84df-2f72084cf347 button');\n",
              "      quickchartButtonEl.style.display =\n",
              "        google.colab.kernel.accessAllowed ? 'block' : 'none';\n",
              "    })();\n",
              "  </script>\n",
              "</div>\n",
              "\n",
              "    </div>\n",
              "  </div>\n"
            ],
            "application/vnd.google.colaboratory.intrinsic+json": {
              "type": "dataframe"
            }
          },
          "metadata": {},
          "execution_count": 5
        }
      ]
    },
    {
      "cell_type": "markdown",
      "source": [
        "# **Feature Description:**\n",
        "\n",
        "PatientID: Unique identifier assigned to each patient (6000 to 7878)\n",
        "\n",
        "\n",
        "# *Demographic Features:*\n",
        "\n",
        "**Age:** ranges from 20 to 90 years\n",
        "\n",
        "Gender: 0 represents Male and 1 represents Female\n",
        "\n",
        "**Ethnicity:** Patient Ethnicity:\n",
        "\n",
        "0: Caucasian,\n",
        "1: African American,\n",
        "2: Asian,\n",
        "3: Other\n",
        "\n",
        "**SocioeconomicStatus:** Socioeconomic status:\n",
        "\n",
        "0: Low, 1: Middle, 2: High\n",
        "\n",
        "**EducationLevel:** Education level:\n",
        "\n",
        "0: None, 1: High School, 2: Bachelor's, 3: Higher\n",
        "\n",
        "\n",
        "# *Lifestyle Factors*\n",
        "\n",
        "**BMI:** Body Mass Index ranging from 15 to 40\n",
        "\n",
        "**Smoking:** 0 = No and 1 = Yes\n",
        "\n",
        "**AlcoholConsumption:** Weekly alcohol consumption in units, ranging from 0 to 20\n",
        "\n",
        "**PhysicalActivity:** Weekly physical activity in hours, ranging from 0 to 10\n",
        "\n",
        "**DietQuality:** Diet quality score, ranging from 0 to 10\n",
        "\n",
        "**SleepQuality:** Sleep quality score, ranging from 4 to 10\n",
        "\n",
        "# *Medical History*\n",
        "**FamilyHistoryDiabetes:** 0 = No and 1 = Yes\n",
        "\n",
        "**GestationalDiabetes:** History of gestational diabetes, where 0 = No and 1 = Yes\n",
        "\n",
        "**PolycysticOvarySyndrome:** Presence of polycystic ovary syndrome, where 0 = No and 1 = Yes\n",
        "\n",
        "**PreviousPreDiabetes:** History of previous pre-diabetes, where 0 = No and 1 = Yes\n",
        "\n",
        "**Hypertension:** Presence of hypertension, where 0 = No and 1 = Yes\n",
        "\n",
        "# *Clinical Measurements*\n",
        "\n",
        "**SystolicBP:** Systolic blood pressure, ranging from 90 to 180 mmHg\n",
        "\n",
        "**DiastolicBP:** Diastolic blood pressure, ranging from 60 to 120 mmHg\n",
        "\n",
        "**FastingBloodSugar:** Fasting blood sugar levels, ranging from 70 to 200 mg/dL\n",
        "\n",
        "**HbA1c:** Hemoglobin A1c levels, ranging from 4.0% to 10.0%\n",
        "\n",
        "**SerumCreatinine:** Serum creatinine levels, ranging from 0.5 to 5.0 mg/dL\n",
        "\n",
        "**BUNLevels:** Blood Urea Nitrogen levels, ranging from 5 to 50 mg/dL\n",
        "\n",
        "**CholesterolTotal:** Total cholesterol levels, ranging from 150 to 300 mg/dL\n",
        "\n",
        "**CholesterolLDL:** Low-density lipoprotein cholesterol levels, ranging from 50 to 200 mg/dL.\n",
        "\n",
        "**CholesterolHDL:** High-density lipoprotein cholesterol levels, ranging from 20 to 100 mg/dL\n",
        "\n",
        "**CholesterolTriglycerides:** Triglycerides levels, ranging from 50 to 400 mg/dL.\n",
        "Medications\n",
        "\n",
        "**AntihypertensiveMedications:** Use of antihypertensive medications, where 0 = No and 1 = Yes\n",
        "\n",
        "**Statins:** Use of statins, where 0 = No and 1 = Yes\n",
        "\n",
        "**AntidiabeticMedications:** Use of antidiabetic medications, where 0 = No and 1 = Yes\n",
        "\n",
        "# *Symptoms and Quality of Life*\n",
        "\n",
        "**FrequentUrination:** Presence of frequent urination, where 0 = No and 1 = Yes\n",
        "\n",
        "**ExcessiveThirst:** Presence of excessive thirst, where 0 = No and 1 = Yes\n",
        "\n",
        "**UnexplainedWeightLoss:** Presence of unexplained weight loss, where 0 = No and 1 = Yes\n",
        "\n",
        "**FatigueLevels:** Fatigue levels, ranging from 0 to 10\n",
        "\n",
        "**BlurredVision:** Presence of blurred vision, where 0 = No and 1 = Yes\n",
        "\n",
        "**SlowHealingSores:** Presence of slow-healing sores, where 0 = No and 1 = Yes\n",
        "\n",
        "**TinglingHandsFeet:** Presence of tingling in hands or feet, where 0 = No and 1 = Yes\n",
        "\n",
        "**QualityOfLifeScore:** Quality of life score, ranging from 0 to 100\n",
        "\n",
        "# *Environmental and Occupational Exposures*\n",
        "\n",
        "**HeavyMetalsExposure:** Exposure to heavy metals, where 0 = No and 1 = Yes\n",
        "\n",
        "OccupationalExposureChemicals: Occupational exposure to harmful chemicals, where 0 = No and 1 = Yes\n",
        "\n",
        "WaterQuality: Quality of water, where 0 = Good and 1 = Poor\n",
        "\n",
        "# *Health Behaviors*\n",
        "\n",
        "**MedicalCheckupsFrequency:** Frequency of medical check-ups per year, ranging from 0 to 4\n",
        "\n",
        "**MedicationAdherence:** Medication adherence score, ranging from 0 to 10\n",
        "\n",
        "**HealthLiteracy:** Health literacy score, ranging from 0 to 10\n",
        "\n",
        "# *Diagnosis Information ( Target Variable)*\n",
        "\n",
        "**Diagnosis:** Diagnosis status for Diabetes, where 0 = No and 1 = Yes\n",
        "\n"
      ],
      "metadata": {
        "id": "vLVIr6HekjRB"
      }
    },
    {
      "cell_type": "markdown",
      "source": [
        "**Get summary of feature info/types**"
      ],
      "metadata": {
        "id": "ISvpKDs9iUNp"
      }
    },
    {
      "cell_type": "code",
      "source": [
        "df.info()"
      ],
      "metadata": {
        "colab": {
          "base_uri": "https://localhost:8080/"
        },
        "id": "lt3u-bcsifyD",
        "outputId": "18865650-3d83-4874-d173-e0938979e9c2"
      },
      "execution_count": 6,
      "outputs": [
        {
          "output_type": "stream",
          "name": "stdout",
          "text": [
            "<class 'pandas.core.frame.DataFrame'>\n",
            "RangeIndex: 1879 entries, 0 to 1878\n",
            "Data columns (total 45 columns):\n",
            " #   Column                         Non-Null Count  Dtype  \n",
            "---  ------                         --------------  -----  \n",
            " 0   PatientID                      1879 non-null   int64  \n",
            " 1   Age                            1879 non-null   int64  \n",
            " 2   Gender                         1879 non-null   int64  \n",
            " 3   Ethnicity                      1879 non-null   int64  \n",
            " 4   SocioeconomicStatus            1879 non-null   int64  \n",
            " 5   EducationLevel                 1879 non-null   int64  \n",
            " 6   BMI                            1879 non-null   float64\n",
            " 7   Smoking                        1879 non-null   int64  \n",
            " 8   AlcoholConsumption             1879 non-null   float64\n",
            " 9   PhysicalActivity               1879 non-null   float64\n",
            " 10  DietQuality                    1879 non-null   float64\n",
            " 11  SleepQuality                   1879 non-null   float64\n",
            " 12  FamilyHistoryDiabetes          1879 non-null   int64  \n",
            " 13  GestationalDiabetes            1879 non-null   int64  \n",
            " 14  PolycysticOvarySyndrome        1879 non-null   int64  \n",
            " 15  PreviousPreDiabetes            1879 non-null   int64  \n",
            " 16  Hypertension                   1879 non-null   int64  \n",
            " 17  SystolicBP                     1879 non-null   int64  \n",
            " 18  DiastolicBP                    1879 non-null   int64  \n",
            " 19  FastingBloodSugar              1879 non-null   float64\n",
            " 20  HbA1c                          1879 non-null   float64\n",
            " 21  SerumCreatinine                1879 non-null   float64\n",
            " 22  BUNLevels                      1879 non-null   float64\n",
            " 23  CholesterolTotal               1879 non-null   float64\n",
            " 24  CholesterolLDL                 1879 non-null   float64\n",
            " 25  CholesterolHDL                 1879 non-null   float64\n",
            " 26  CholesterolTriglycerides       1879 non-null   float64\n",
            " 27  AntihypertensiveMedications    1879 non-null   int64  \n",
            " 28  Statins                        1879 non-null   int64  \n",
            " 29  AntidiabeticMedications        1879 non-null   int64  \n",
            " 30  FrequentUrination              1879 non-null   int64  \n",
            " 31  ExcessiveThirst                1879 non-null   int64  \n",
            " 32  UnexplainedWeightLoss          1879 non-null   int64  \n",
            " 33  FatigueLevels                  1879 non-null   float64\n",
            " 34  BlurredVision                  1879 non-null   int64  \n",
            " 35  SlowHealingSores               1879 non-null   int64  \n",
            " 36  TinglingHandsFeet              1879 non-null   int64  \n",
            " 37  QualityOfLifeScore             1879 non-null   float64\n",
            " 38  HeavyMetalsExposure            1879 non-null   int64  \n",
            " 39  OccupationalExposureChemicals  1879 non-null   int64  \n",
            " 40  WaterQuality                   1879 non-null   int64  \n",
            " 41  MedicalCheckupsFrequency       1879 non-null   float64\n",
            " 42  MedicationAdherence            1879 non-null   float64\n",
            " 43  HealthLiteracy                 1879 non-null   float64\n",
            " 44  Diagnosis                      1879 non-null   int64  \n",
            "dtypes: float64(18), int64(27)\n",
            "memory usage: 660.7 KB\n"
          ]
        }
      ]
    },
    {
      "cell_type": "markdown",
      "source": [
        "As you can see, we have 43 features (not counting ID, DoctorInCharge, & Diagnosis columns) and 1879 patients. Let us first check for missing data, and then perform some exploratory data analysis to better understand what each variable looks like within the population!"
      ],
      "metadata": {
        "id": "kAGHfvKgs8A2"
      }
    },
    {
      "cell_type": "code",
      "source": [
        "print(\"Number of Missing Values:\", df.isnull().sum().sum())"
      ],
      "metadata": {
        "colab": {
          "base_uri": "https://localhost:8080/"
        },
        "id": "csQ5fs_ctp2I",
        "outputId": "f6998ea7-7638-4d60-d175-a7758b72fd76"
      },
      "execution_count": 7,
      "outputs": [
        {
          "output_type": "stream",
          "name": "stdout",
          "text": [
            "Number of Missing Values: 0\n"
          ]
        }
      ]
    },
    {
      "cell_type": "markdown",
      "source": [
        "No missing values!"
      ],
      "metadata": {
        "id": "jB2szVQxuBZR"
      }
    },
    {
      "cell_type": "code",
      "source": [
        "categorical_variables = df[[\n",
        "    'Gender', 'Ethnicity', 'SocioeconomicStatus', 'EducationLevel', 'Smoking',\n",
        "    'FamilyHistoryDiabetes', 'GestationalDiabetes', 'PolycysticOvarySyndrome',\n",
        "    'PreviousPreDiabetes', 'Hypertension', 'AntihypertensiveMedications',\n",
        "    'Statins', 'AntidiabeticMedications', 'FrequentUrination', 'ExcessiveThirst',\n",
        "    'UnexplainedWeightLoss', 'BlurredVision', 'SlowHealingSores',\n",
        "    'TinglingHandsFeet', 'HeavyMetalsExposure', 'OccupationalExposureChemicals',\n",
        "    'WaterQuality', 'Diagnosis'\n",
        "]]"
      ],
      "metadata": {
        "id": "O6xk5NEQuGhN"
      },
      "execution_count": 8,
      "outputs": []
    },
    {
      "cell_type": "code",
      "source": [
        "continuous_variables = df[[\n",
        "    'Age', 'BMI', 'AlcoholConsumption', 'PhysicalActivity', 'DietQuality',\n",
        "    'SleepQuality', 'SystolicBP', 'DiastolicBP', 'FastingBloodSugar', 'HbA1c',\n",
        "    'SerumCreatinine', 'BUNLevels', 'CholesterolTotal', 'CholesterolLDL',\n",
        "    'CholesterolHDL', 'CholesterolTriglycerides', 'FatigueLevels',\n",
        "    'QualityOfLifeScore', 'MedicalCheckupsFrequency', 'MedicationAdherence',\n",
        "    'HealthLiteracy'\n",
        "]]"
      ],
      "metadata": {
        "id": "OT-_-_r7U81S"
      },
      "execution_count": 9,
      "outputs": []
    },
    {
      "cell_type": "code",
      "source": [
        "continuous_variables.describe()"
      ],
      "metadata": {
        "colab": {
          "base_uri": "https://localhost:8080/",
          "height": 349
        },
        "id": "E4JIZ5ZlVDrH",
        "outputId": "8ecea1fa-6cd4-4eac-c688-7068aee687d2"
      },
      "execution_count": 10,
      "outputs": [
        {
          "output_type": "execute_result",
          "data": {
            "text/plain": [
              "               Age          BMI  AlcoholConsumption  PhysicalActivity  \\\n",
              "count  1879.000000  1879.000000         1879.000000       1879.000000   \n",
              "mean     55.043108    27.687601           10.096587          5.200790   \n",
              "std      20.515839     7.190975            5.914216          2.857012   \n",
              "min      20.000000    15.025898            0.000928          0.004089   \n",
              "25%      38.000000    21.469981            4.789725          2.751022   \n",
              "50%      55.000000    27.722988           10.173865          5.249002   \n",
              "75%      73.000000    33.856460           15.285359          7.671402   \n",
              "max      90.000000    39.998811           19.996231          9.993893   \n",
              "\n",
              "       DietQuality  SleepQuality   SystolicBP  DiastolicBP  FastingBloodSugar  \\\n",
              "count  1879.000000   1879.000000  1879.000000  1879.000000        1879.000000   \n",
              "mean      4.895801      7.021328   134.050559    89.863757         135.204490   \n",
              "std       2.867144      1.729469    25.613830    17.328086          37.515750   \n",
              "min       0.000885      4.004336    90.000000    60.000000          70.074649   \n",
              "25%       2.476802      5.481789   112.000000    75.000000         102.341470   \n",
              "50%       4.888566      7.094692   134.000000    90.000000         137.398241   \n",
              "75%       7.356058      8.523814   156.000000   105.000000         167.362362   \n",
              "max       9.998677      9.989372   179.000000   119.000000         199.935506   \n",
              "\n",
              "             HbA1c  ...    BUNLevels  CholesterolTotal  CholesterolLDL  \\\n",
              "count  1879.000000  ...  1879.000000       1879.000000     1879.000000   \n",
              "mean      6.976133  ...    27.798153        225.006464      124.656831   \n",
              "std       1.739365  ...    12.800797         43.367170       42.911145   \n",
              "min       4.003089  ...     5.010401        150.056094       50.058252   \n",
              "25%       5.443856  ...    17.172009        186.933051       87.810946   \n",
              "50%       7.095732  ...    28.190147        225.120112      124.918023   \n",
              "75%       8.423211  ...    38.506299        263.529424      161.624444   \n",
              "max       9.991193  ...    49.975728        299.998480      199.898732   \n",
              "\n",
              "       CholesterolHDL  CholesterolTriglycerides  FatigueLevels  \\\n",
              "count     1879.000000               1879.000000    1879.000000   \n",
              "mean        60.060944                227.386167       4.949003   \n",
              "std         23.316682                101.071578       2.884483   \n",
              "min         20.014494                 50.154649       0.004977   \n",
              "25%         40.011963                140.873930       2.417748   \n",
              "50%         60.456988                228.417429       4.851914   \n",
              "75%         80.059112                313.408944       7.569772   \n",
              "max         99.958394                399.885928       9.999979   \n",
              "\n",
              "       QualityOfLifeScore  MedicalCheckupsFrequency  MedicationAdherence  \\\n",
              "count         1879.000000               1879.000000          1879.000000   \n",
              "mean            48.508643                  1.997101             4.957539   \n",
              "std             28.758488                  1.122632             2.910934   \n",
              "min              0.002390                  0.004013             0.005384   \n",
              "25%             23.974098                  1.057801             2.420024   \n",
              "50%             47.519693                  1.987170             4.843886   \n",
              "75%             72.883179                  2.946019             7.513933   \n",
              "max             99.788530                  3.999715             9.997165   \n",
              "\n",
              "       HealthLiteracy  \n",
              "count     1879.000000  \n",
              "mean         5.011736  \n",
              "std          2.920908  \n",
              "min          0.000362  \n",
              "25%          2.410113  \n",
              "50%          5.035208  \n",
              "75%          7.586865  \n",
              "max          9.993029  \n",
              "\n",
              "[8 rows x 21 columns]"
            ],
            "text/html": [
              "\n",
              "  <div id=\"df-cc4e5a51-78fb-4437-a4ad-bcd9c126c72c\" class=\"colab-df-container\">\n",
              "    <div>\n",
              "<style scoped>\n",
              "    .dataframe tbody tr th:only-of-type {\n",
              "        vertical-align: middle;\n",
              "    }\n",
              "\n",
              "    .dataframe tbody tr th {\n",
              "        vertical-align: top;\n",
              "    }\n",
              "\n",
              "    .dataframe thead th {\n",
              "        text-align: right;\n",
              "    }\n",
              "</style>\n",
              "<table border=\"1\" class=\"dataframe\">\n",
              "  <thead>\n",
              "    <tr style=\"text-align: right;\">\n",
              "      <th></th>\n",
              "      <th>Age</th>\n",
              "      <th>BMI</th>\n",
              "      <th>AlcoholConsumption</th>\n",
              "      <th>PhysicalActivity</th>\n",
              "      <th>DietQuality</th>\n",
              "      <th>SleepQuality</th>\n",
              "      <th>SystolicBP</th>\n",
              "      <th>DiastolicBP</th>\n",
              "      <th>FastingBloodSugar</th>\n",
              "      <th>HbA1c</th>\n",
              "      <th>...</th>\n",
              "      <th>BUNLevels</th>\n",
              "      <th>CholesterolTotal</th>\n",
              "      <th>CholesterolLDL</th>\n",
              "      <th>CholesterolHDL</th>\n",
              "      <th>CholesterolTriglycerides</th>\n",
              "      <th>FatigueLevels</th>\n",
              "      <th>QualityOfLifeScore</th>\n",
              "      <th>MedicalCheckupsFrequency</th>\n",
              "      <th>MedicationAdherence</th>\n",
              "      <th>HealthLiteracy</th>\n",
              "    </tr>\n",
              "  </thead>\n",
              "  <tbody>\n",
              "    <tr>\n",
              "      <th>count</th>\n",
              "      <td>1879.000000</td>\n",
              "      <td>1879.000000</td>\n",
              "      <td>1879.000000</td>\n",
              "      <td>1879.000000</td>\n",
              "      <td>1879.000000</td>\n",
              "      <td>1879.000000</td>\n",
              "      <td>1879.000000</td>\n",
              "      <td>1879.000000</td>\n",
              "      <td>1879.000000</td>\n",
              "      <td>1879.000000</td>\n",
              "      <td>...</td>\n",
              "      <td>1879.000000</td>\n",
              "      <td>1879.000000</td>\n",
              "      <td>1879.000000</td>\n",
              "      <td>1879.000000</td>\n",
              "      <td>1879.000000</td>\n",
              "      <td>1879.000000</td>\n",
              "      <td>1879.000000</td>\n",
              "      <td>1879.000000</td>\n",
              "      <td>1879.000000</td>\n",
              "      <td>1879.000000</td>\n",
              "    </tr>\n",
              "    <tr>\n",
              "      <th>mean</th>\n",
              "      <td>55.043108</td>\n",
              "      <td>27.687601</td>\n",
              "      <td>10.096587</td>\n",
              "      <td>5.200790</td>\n",
              "      <td>4.895801</td>\n",
              "      <td>7.021328</td>\n",
              "      <td>134.050559</td>\n",
              "      <td>89.863757</td>\n",
              "      <td>135.204490</td>\n",
              "      <td>6.976133</td>\n",
              "      <td>...</td>\n",
              "      <td>27.798153</td>\n",
              "      <td>225.006464</td>\n",
              "      <td>124.656831</td>\n",
              "      <td>60.060944</td>\n",
              "      <td>227.386167</td>\n",
              "      <td>4.949003</td>\n",
              "      <td>48.508643</td>\n",
              "      <td>1.997101</td>\n",
              "      <td>4.957539</td>\n",
              "      <td>5.011736</td>\n",
              "    </tr>\n",
              "    <tr>\n",
              "      <th>std</th>\n",
              "      <td>20.515839</td>\n",
              "      <td>7.190975</td>\n",
              "      <td>5.914216</td>\n",
              "      <td>2.857012</td>\n",
              "      <td>2.867144</td>\n",
              "      <td>1.729469</td>\n",
              "      <td>25.613830</td>\n",
              "      <td>17.328086</td>\n",
              "      <td>37.515750</td>\n",
              "      <td>1.739365</td>\n",
              "      <td>...</td>\n",
              "      <td>12.800797</td>\n",
              "      <td>43.367170</td>\n",
              "      <td>42.911145</td>\n",
              "      <td>23.316682</td>\n",
              "      <td>101.071578</td>\n",
              "      <td>2.884483</td>\n",
              "      <td>28.758488</td>\n",
              "      <td>1.122632</td>\n",
              "      <td>2.910934</td>\n",
              "      <td>2.920908</td>\n",
              "    </tr>\n",
              "    <tr>\n",
              "      <th>min</th>\n",
              "      <td>20.000000</td>\n",
              "      <td>15.025898</td>\n",
              "      <td>0.000928</td>\n",
              "      <td>0.004089</td>\n",
              "      <td>0.000885</td>\n",
              "      <td>4.004336</td>\n",
              "      <td>90.000000</td>\n",
              "      <td>60.000000</td>\n",
              "      <td>70.074649</td>\n",
              "      <td>4.003089</td>\n",
              "      <td>...</td>\n",
              "      <td>5.010401</td>\n",
              "      <td>150.056094</td>\n",
              "      <td>50.058252</td>\n",
              "      <td>20.014494</td>\n",
              "      <td>50.154649</td>\n",
              "      <td>0.004977</td>\n",
              "      <td>0.002390</td>\n",
              "      <td>0.004013</td>\n",
              "      <td>0.005384</td>\n",
              "      <td>0.000362</td>\n",
              "    </tr>\n",
              "    <tr>\n",
              "      <th>25%</th>\n",
              "      <td>38.000000</td>\n",
              "      <td>21.469981</td>\n",
              "      <td>4.789725</td>\n",
              "      <td>2.751022</td>\n",
              "      <td>2.476802</td>\n",
              "      <td>5.481789</td>\n",
              "      <td>112.000000</td>\n",
              "      <td>75.000000</td>\n",
              "      <td>102.341470</td>\n",
              "      <td>5.443856</td>\n",
              "      <td>...</td>\n",
              "      <td>17.172009</td>\n",
              "      <td>186.933051</td>\n",
              "      <td>87.810946</td>\n",
              "      <td>40.011963</td>\n",
              "      <td>140.873930</td>\n",
              "      <td>2.417748</td>\n",
              "      <td>23.974098</td>\n",
              "      <td>1.057801</td>\n",
              "      <td>2.420024</td>\n",
              "      <td>2.410113</td>\n",
              "    </tr>\n",
              "    <tr>\n",
              "      <th>50%</th>\n",
              "      <td>55.000000</td>\n",
              "      <td>27.722988</td>\n",
              "      <td>10.173865</td>\n",
              "      <td>5.249002</td>\n",
              "      <td>4.888566</td>\n",
              "      <td>7.094692</td>\n",
              "      <td>134.000000</td>\n",
              "      <td>90.000000</td>\n",
              "      <td>137.398241</td>\n",
              "      <td>7.095732</td>\n",
              "      <td>...</td>\n",
              "      <td>28.190147</td>\n",
              "      <td>225.120112</td>\n",
              "      <td>124.918023</td>\n",
              "      <td>60.456988</td>\n",
              "      <td>228.417429</td>\n",
              "      <td>4.851914</td>\n",
              "      <td>47.519693</td>\n",
              "      <td>1.987170</td>\n",
              "      <td>4.843886</td>\n",
              "      <td>5.035208</td>\n",
              "    </tr>\n",
              "    <tr>\n",
              "      <th>75%</th>\n",
              "      <td>73.000000</td>\n",
              "      <td>33.856460</td>\n",
              "      <td>15.285359</td>\n",
              "      <td>7.671402</td>\n",
              "      <td>7.356058</td>\n",
              "      <td>8.523814</td>\n",
              "      <td>156.000000</td>\n",
              "      <td>105.000000</td>\n",
              "      <td>167.362362</td>\n",
              "      <td>8.423211</td>\n",
              "      <td>...</td>\n",
              "      <td>38.506299</td>\n",
              "      <td>263.529424</td>\n",
              "      <td>161.624444</td>\n",
              "      <td>80.059112</td>\n",
              "      <td>313.408944</td>\n",
              "      <td>7.569772</td>\n",
              "      <td>72.883179</td>\n",
              "      <td>2.946019</td>\n",
              "      <td>7.513933</td>\n",
              "      <td>7.586865</td>\n",
              "    </tr>\n",
              "    <tr>\n",
              "      <th>max</th>\n",
              "      <td>90.000000</td>\n",
              "      <td>39.998811</td>\n",
              "      <td>19.996231</td>\n",
              "      <td>9.993893</td>\n",
              "      <td>9.998677</td>\n",
              "      <td>9.989372</td>\n",
              "      <td>179.000000</td>\n",
              "      <td>119.000000</td>\n",
              "      <td>199.935506</td>\n",
              "      <td>9.991193</td>\n",
              "      <td>...</td>\n",
              "      <td>49.975728</td>\n",
              "      <td>299.998480</td>\n",
              "      <td>199.898732</td>\n",
              "      <td>99.958394</td>\n",
              "      <td>399.885928</td>\n",
              "      <td>9.999979</td>\n",
              "      <td>99.788530</td>\n",
              "      <td>3.999715</td>\n",
              "      <td>9.997165</td>\n",
              "      <td>9.993029</td>\n",
              "    </tr>\n",
              "  </tbody>\n",
              "</table>\n",
              "<p>8 rows × 21 columns</p>\n",
              "</div>\n",
              "    <div class=\"colab-df-buttons\">\n",
              "\n",
              "  <div class=\"colab-df-container\">\n",
              "    <button class=\"colab-df-convert\" onclick=\"convertToInteractive('df-cc4e5a51-78fb-4437-a4ad-bcd9c126c72c')\"\n",
              "            title=\"Convert this dataframe to an interactive table.\"\n",
              "            style=\"display:none;\">\n",
              "\n",
              "  <svg xmlns=\"http://www.w3.org/2000/svg\" height=\"24px\" viewBox=\"0 -960 960 960\">\n",
              "    <path d=\"M120-120v-720h720v720H120Zm60-500h600v-160H180v160Zm220 220h160v-160H400v160Zm0 220h160v-160H400v160ZM180-400h160v-160H180v160Zm440 0h160v-160H620v160ZM180-180h160v-160H180v160Zm440 0h160v-160H620v160Z\"/>\n",
              "  </svg>\n",
              "    </button>\n",
              "\n",
              "  <style>\n",
              "    .colab-df-container {\n",
              "      display:flex;\n",
              "      gap: 12px;\n",
              "    }\n",
              "\n",
              "    .colab-df-convert {\n",
              "      background-color: #E8F0FE;\n",
              "      border: none;\n",
              "      border-radius: 50%;\n",
              "      cursor: pointer;\n",
              "      display: none;\n",
              "      fill: #1967D2;\n",
              "      height: 32px;\n",
              "      padding: 0 0 0 0;\n",
              "      width: 32px;\n",
              "    }\n",
              "\n",
              "    .colab-df-convert:hover {\n",
              "      background-color: #E2EBFA;\n",
              "      box-shadow: 0px 1px 2px rgba(60, 64, 67, 0.3), 0px 1px 3px 1px rgba(60, 64, 67, 0.15);\n",
              "      fill: #174EA6;\n",
              "    }\n",
              "\n",
              "    .colab-df-buttons div {\n",
              "      margin-bottom: 4px;\n",
              "    }\n",
              "\n",
              "    [theme=dark] .colab-df-convert {\n",
              "      background-color: #3B4455;\n",
              "      fill: #D2E3FC;\n",
              "    }\n",
              "\n",
              "    [theme=dark] .colab-df-convert:hover {\n",
              "      background-color: #434B5C;\n",
              "      box-shadow: 0px 1px 3px 1px rgba(0, 0, 0, 0.15);\n",
              "      filter: drop-shadow(0px 1px 2px rgba(0, 0, 0, 0.3));\n",
              "      fill: #FFFFFF;\n",
              "    }\n",
              "  </style>\n",
              "\n",
              "    <script>\n",
              "      const buttonEl =\n",
              "        document.querySelector('#df-cc4e5a51-78fb-4437-a4ad-bcd9c126c72c button.colab-df-convert');\n",
              "      buttonEl.style.display =\n",
              "        google.colab.kernel.accessAllowed ? 'block' : 'none';\n",
              "\n",
              "      async function convertToInteractive(key) {\n",
              "        const element = document.querySelector('#df-cc4e5a51-78fb-4437-a4ad-bcd9c126c72c');\n",
              "        const dataTable =\n",
              "          await google.colab.kernel.invokeFunction('convertToInteractive',\n",
              "                                                    [key], {});\n",
              "        if (!dataTable) return;\n",
              "\n",
              "        const docLinkHtml = 'Like what you see? Visit the ' +\n",
              "          '<a target=\"_blank\" href=https://colab.research.google.com/notebooks/data_table.ipynb>data table notebook</a>'\n",
              "          + ' to learn more about interactive tables.';\n",
              "        element.innerHTML = '';\n",
              "        dataTable['output_type'] = 'display_data';\n",
              "        await google.colab.output.renderOutput(dataTable, element);\n",
              "        const docLink = document.createElement('div');\n",
              "        docLink.innerHTML = docLinkHtml;\n",
              "        element.appendChild(docLink);\n",
              "      }\n",
              "    </script>\n",
              "  </div>\n",
              "\n",
              "\n",
              "<div id=\"df-b2d21502-da21-41d4-a2ab-c8e226dbb209\">\n",
              "  <button class=\"colab-df-quickchart\" onclick=\"quickchart('df-b2d21502-da21-41d4-a2ab-c8e226dbb209')\"\n",
              "            title=\"Suggest charts\"\n",
              "            style=\"display:none;\">\n",
              "\n",
              "<svg xmlns=\"http://www.w3.org/2000/svg\" height=\"24px\"viewBox=\"0 0 24 24\"\n",
              "     width=\"24px\">\n",
              "    <g>\n",
              "        <path d=\"M19 3H5c-1.1 0-2 .9-2 2v14c0 1.1.9 2 2 2h14c1.1 0 2-.9 2-2V5c0-1.1-.9-2-2-2zM9 17H7v-7h2v7zm4 0h-2V7h2v10zm4 0h-2v-4h2v4z\"/>\n",
              "    </g>\n",
              "</svg>\n",
              "  </button>\n",
              "\n",
              "<style>\n",
              "  .colab-df-quickchart {\n",
              "      --bg-color: #E8F0FE;\n",
              "      --fill-color: #1967D2;\n",
              "      --hover-bg-color: #E2EBFA;\n",
              "      --hover-fill-color: #174EA6;\n",
              "      --disabled-fill-color: #AAA;\n",
              "      --disabled-bg-color: #DDD;\n",
              "  }\n",
              "\n",
              "  [theme=dark] .colab-df-quickchart {\n",
              "      --bg-color: #3B4455;\n",
              "      --fill-color: #D2E3FC;\n",
              "      --hover-bg-color: #434B5C;\n",
              "      --hover-fill-color: #FFFFFF;\n",
              "      --disabled-bg-color: #3B4455;\n",
              "      --disabled-fill-color: #666;\n",
              "  }\n",
              "\n",
              "  .colab-df-quickchart {\n",
              "    background-color: var(--bg-color);\n",
              "    border: none;\n",
              "    border-radius: 50%;\n",
              "    cursor: pointer;\n",
              "    display: none;\n",
              "    fill: var(--fill-color);\n",
              "    height: 32px;\n",
              "    padding: 0;\n",
              "    width: 32px;\n",
              "  }\n",
              "\n",
              "  .colab-df-quickchart:hover {\n",
              "    background-color: var(--hover-bg-color);\n",
              "    box-shadow: 0 1px 2px rgba(60, 64, 67, 0.3), 0 1px 3px 1px rgba(60, 64, 67, 0.15);\n",
              "    fill: var(--button-hover-fill-color);\n",
              "  }\n",
              "\n",
              "  .colab-df-quickchart-complete:disabled,\n",
              "  .colab-df-quickchart-complete:disabled:hover {\n",
              "    background-color: var(--disabled-bg-color);\n",
              "    fill: var(--disabled-fill-color);\n",
              "    box-shadow: none;\n",
              "  }\n",
              "\n",
              "  .colab-df-spinner {\n",
              "    border: 2px solid var(--fill-color);\n",
              "    border-color: transparent;\n",
              "    border-bottom-color: var(--fill-color);\n",
              "    animation:\n",
              "      spin 1s steps(1) infinite;\n",
              "  }\n",
              "\n",
              "  @keyframes spin {\n",
              "    0% {\n",
              "      border-color: transparent;\n",
              "      border-bottom-color: var(--fill-color);\n",
              "      border-left-color: var(--fill-color);\n",
              "    }\n",
              "    20% {\n",
              "      border-color: transparent;\n",
              "      border-left-color: var(--fill-color);\n",
              "      border-top-color: var(--fill-color);\n",
              "    }\n",
              "    30% {\n",
              "      border-color: transparent;\n",
              "      border-left-color: var(--fill-color);\n",
              "      border-top-color: var(--fill-color);\n",
              "      border-right-color: var(--fill-color);\n",
              "    }\n",
              "    40% {\n",
              "      border-color: transparent;\n",
              "      border-right-color: var(--fill-color);\n",
              "      border-top-color: var(--fill-color);\n",
              "    }\n",
              "    60% {\n",
              "      border-color: transparent;\n",
              "      border-right-color: var(--fill-color);\n",
              "    }\n",
              "    80% {\n",
              "      border-color: transparent;\n",
              "      border-right-color: var(--fill-color);\n",
              "      border-bottom-color: var(--fill-color);\n",
              "    }\n",
              "    90% {\n",
              "      border-color: transparent;\n",
              "      border-bottom-color: var(--fill-color);\n",
              "    }\n",
              "  }\n",
              "</style>\n",
              "\n",
              "  <script>\n",
              "    async function quickchart(key) {\n",
              "      const quickchartButtonEl =\n",
              "        document.querySelector('#' + key + ' button');\n",
              "      quickchartButtonEl.disabled = true;  // To prevent multiple clicks.\n",
              "      quickchartButtonEl.classList.add('colab-df-spinner');\n",
              "      try {\n",
              "        const charts = await google.colab.kernel.invokeFunction(\n",
              "            'suggestCharts', [key], {});\n",
              "      } catch (error) {\n",
              "        console.error('Error during call to suggestCharts:', error);\n",
              "      }\n",
              "      quickchartButtonEl.classList.remove('colab-df-spinner');\n",
              "      quickchartButtonEl.classList.add('colab-df-quickchart-complete');\n",
              "    }\n",
              "    (() => {\n",
              "      let quickchartButtonEl =\n",
              "        document.querySelector('#df-b2d21502-da21-41d4-a2ab-c8e226dbb209 button');\n",
              "      quickchartButtonEl.style.display =\n",
              "        google.colab.kernel.accessAllowed ? 'block' : 'none';\n",
              "    })();\n",
              "  </script>\n",
              "</div>\n",
              "\n",
              "    </div>\n",
              "  </div>\n"
            ],
            "application/vnd.google.colaboratory.intrinsic+json": {
              "type": "dataframe"
            }
          },
          "metadata": {},
          "execution_count": 10
        }
      ]
    },
    {
      "cell_type": "markdown",
      "source": [
        "Checking for Outliers within our continuous variables using z-score"
      ],
      "metadata": {
        "id": "IrIf3L97gi5h"
      }
    },
    {
      "cell_type": "code",
      "source": [
        "# Calculate z-scores for all values\n",
        "z_scores = np.abs(stats.zscore(continuous_variables))\n",
        "\n",
        "threshold = 3\n",
        "outliers = (z_scores > threshold).any(axis = 1)\n",
        "\n",
        "print(continuous_variables[outliers])"
      ],
      "metadata": {
        "colab": {
          "base_uri": "https://localhost:8080/"
        },
        "id": "atlOOr_7ihOr",
        "outputId": "ac586ab7-e7f3-4e6e-a155-be2ec33f727f"
      },
      "execution_count": 11,
      "outputs": [
        {
          "output_type": "stream",
          "name": "stdout",
          "text": [
            "Empty DataFrame\n",
            "Columns: [Age, BMI, AlcoholConsumption, PhysicalActivity, DietQuality, SleepQuality, SystolicBP, DiastolicBP, FastingBloodSugar, HbA1c, SerumCreatinine, BUNLevels, CholesterolTotal, CholesterolLDL, CholesterolHDL, CholesterolTriglycerides, FatigueLevels, QualityOfLifeScore, MedicalCheckupsFrequency, MedicationAdherence, HealthLiteracy]\n",
            "Index: []\n",
            "\n",
            "[0 rows x 21 columns]\n"
          ]
        }
      ]
    },
    {
      "cell_type": "markdown",
      "source": [
        "no outliers!"
      ],
      "metadata": {
        "id": "ug-3jfTRpzTi"
      }
    },
    {
      "cell_type": "markdown",
      "source": [
        "Checking for Class Imbalance"
      ],
      "metadata": {
        "id": "9YRiaRsR-1dg"
      }
    },
    {
      "cell_type": "code",
      "source": [
        "sns.set(style=\"whitegrid\")\n",
        "plt.figure(figsize = (8, 6))\n",
        "sns.countplot(x='Diagnosis', data = df, palette = 'seismic')\n",
        "plt.title('Count Plot of Diagnosis')\n",
        "plt.xlabel('Diagnosis')\n",
        "plt.ylabel('Count')\n",
        "plt.show()"
      ],
      "metadata": {
        "colab": {
          "base_uri": "https://localhost:8080/",
          "height": 664
        },
        "id": "zoygL0Mb-4A8",
        "outputId": "c1c29d91-3cb6-427e-e15e-53acb01e70e3"
      },
      "execution_count": 12,
      "outputs": [
        {
          "output_type": "stream",
          "name": "stderr",
          "text": [
            "<ipython-input-12-f24fb63a96b6>:3: FutureWarning: \n",
            "\n",
            "Passing `palette` without assigning `hue` is deprecated and will be removed in v0.14.0. Assign the `x` variable to `hue` and set `legend=False` for the same effect.\n",
            "\n",
            "  sns.countplot(x='Diagnosis', data=df, palette='seismic')\n"
          ]
        },
        {
          "output_type": "display_data",
          "data": {
            "text/plain": [
              "<Figure size 800x600 with 1 Axes>"
            ],
            "image/png": "[encoded data removed]"
          },
          "metadata": {}
        }
      ]
    },
    {
      "cell_type": "markdown",
      "source": [
        "Since class imbalance is present, I will mitigate its effects through each individual model instead, as I want to learn how to address it within the model. I already learned how to use SMOTE in another project and want to optimize how much I learn through these projects:)."
      ],
      "metadata": {
        "id": "hTUIDQZtRZPh"
      }
    },
    {
      "cell_type": "markdown",
      "source": [
        "# Machine Learning Models\n",
        "\n"
      ],
      "metadata": {
        "id": "FObT8hVsDAW1"
      }
    },
    {
      "cell_type": "markdown",
      "source": [
        "*General Note about optimization methods used in this project:*\n",
        "\n",
        "**Manual Search, Random Search, Grid Search, and Bayesian Optimization** are generally the four methods used to find the best parameters for machine elarning algorithms, including the ones used in this project. To demonstrate experience with and understanding of them, I used Random Search for the Random Forest and Grid Search & Bayesian Optimization for the XGB. It was very fun being able to implement them and understand how they work/differ!"
      ],
      "metadata": {
        "id": "08A68uM_bcl8"
      }
    },
    {
      "cell_type": "markdown",
      "source": [
        "# **Random Forest**\n",
        "\n",
        "An **ensemble learning method** that constructs **multiple decision trees** and combines their outputs to improve accuracy and robustness. The Random Forest method builds many trees **independently in parallel**. The final prediction is amde by averaging the predictions of all the trees (regression) but in our case, since we are dealing with binary classification, **majority voting** is used.\n",
        "\n",
        "Random forests use many independent decision trees (with randomly selected features). **Boot strapping** is then used to create different subsets of the data with replacement which makes the model more robust (here, our random search chooses an optimal set of parameters in which bootstrapping is NOT necessary, however I still wanted to demonstrate my knowledge of how it works)"
      ],
      "metadata": {
        "id": "eccf-2gBUSca"
      }
    },
    {
      "cell_type": "markdown",
      "source": [
        "First, we need to one-hot encode our categorical variables"
      ],
      "metadata": {
        "id": "R75eOFtYXRaL"
      }
    },
    {
      "cell_type": "code",
      "source": [
        "encoded_categorical_data = pd.get_dummies(categorical_variables)\n",
        "\n",
        "data = pd.concat([continuous_variables, encoded_categorical_data], axis = 1)"
      ],
      "metadata": {
        "id": "QmNhIri-VjDP"
      },
      "execution_count": 13,
      "outputs": []
    },
    {
      "cell_type": "markdown",
      "source": [
        "Building the model"
      ],
      "metadata": {
        "id": "NPQ--2RCZgWJ"
      }
    },
    {
      "cell_type": "code",
      "source": [
        "X = data.drop('Diagnosis', axis = 1)\n",
        "y = data['Diagnosis']\n",
        "\n",
        "X_train, X_test, y_train, y_test = train_test_split(X, y, test_size = 0.2, random_state = 42)"
      ],
      "metadata": {
        "id": "YVItwjwlZfDr"
      },
      "execution_count": 14,
      "outputs": []
    },
    {
      "cell_type": "code",
      "source": [
        "n_estimators = [100, 200, 300]\n",
        "\n",
        "max_features = ['auto', 'sqrt']\n",
        "\n",
        "max_depth = [5, 10, 15, 20, 25, 30]\n",
        "\n",
        "min_samples_split = [2, 5, 10]\n",
        "\n",
        "min_samples_leaf = [1, 2, 4]\n",
        "\n",
        "BootStrap = [True, False]\n",
        "\n",
        "random_grid = {'n_estimators': n_estimators,\n",
        "               'max_features': max_features,\n",
        "               'max_depth': max_depth,\n",
        "               'min_samples_split': min_samples_split,\n",
        "               'min_samples_leaf': min_samples_leaf,\n",
        "               'bootstrap': BootStrap}\n",
        "\n",
        "print(random_grid)"
      ],
      "metadata": {
        "colab": {
          "base_uri": "https://localhost:8080/"
        },
        "id": "ietifp-XbUB6",
        "outputId": "b22ef8e9-fc39-412f-84a9-12e8c3e04d55"
      },
      "execution_count": 15,
      "outputs": [
        {
          "output_type": "stream",
          "name": "stdout",
          "text": [
            "{'n_estimators': [100, 200, 300], 'max_features': ['auto', 'sqrt'], 'max_depth': [5, 10, 15, 20, 25, 30], 'min_samples_split': [2, 5, 10], 'min_samples_leaf': [1, 2, 4], 'bootstrap': [True, False]}\n"
          ]
        }
      ]
    },
    {
      "cell_type": "markdown",
      "source": [
        "# Bootstrapping\n",
        "\n",
        "In this random grid, I also allow for the search to include the statistical technique of **\"Bootstrapping\"**, a common tool used to ensure **reduced variance** and **improved robustness to outliers/noise** in a plethora of machine learning algorithms **AND** statistical methods.\n",
        "\n",
        "**Bootstrapping:** Bootstrapping in Random Forests involves **creating multiple subsets of the original training dataset by sampling with replacement.** Each of these subsets, called **bootstrap sample**s, is used to **train individual decision trees**. This method ensures that each tree is trained on a slightly different dataset, promoting **diversity among the trees**. The final prediction of the Random Forest is made by aggregating the predictions of all the individual trees, typically using **majority voting for classification** or **averaging for regression**, which helps to **reduce overfitting** and **improve the model's generalization** performance.\n",
        "\n",
        "Let me note here as well that a random forest that uses bootstrapping is a form of **bagging**- short for **bootstrap aggregation** (also classified as an ensemble method). If the search finds the best set of parameters to also utilize bootstrapping, then the random forest will utilize random subsets of the data for each tree. When majority voting is used to **aggreagate all of the individual decision tree outcomes** (since we are dealing with binary classification), this is the implementation of bagging!"
      ],
      "metadata": {
        "id": "yZ7d9uiaShB0"
      }
    },
    {
      "cell_type": "code",
      "source": [
        "from sklearn.ensemble import RandomForestClassifier\n",
        "from sklearn.model_selection import RandomizedSearchCV\n",
        "\n",
        "#addressing class imbalance\n",
        "rf = RandomForestClassifier(class_weight = 'balanced')\n",
        "\n",
        "rf_random = RandomizedSearchCV(estimator = rf, param_distributions = random_grid, n_iter = 100, cv = 5, scoring = 'accuracy', verbose=2, random_state=42, n_jobs = -1)"
      ],
      "metadata": {
        "id": "omith6oYbwwn"
      },
      "execution_count": 16,
      "outputs": []
    },
    {
      "cell_type": "markdown",
      "source": [
        "**Model with Random Search**"
      ],
      "metadata": {
        "id": "-K2v2TwbhPR5"
      }
    },
    {
      "cell_type": "markdown",
      "source": [
        "Random Search is a variation of grid search that randomly samples different hyperparameter combinations to try instead of going through all of them. Usually I do grid search, so this was a fun alternative method to use!"
      ],
      "metadata": {
        "id": "jcHq4Byc6k5C"
      }
    },
    {
      "cell_type": "code",
      "source": [
        "np.random.seed(42)\n",
        "rf_random.fit(X_train, y_train)\n",
        "print(rf_random.best_params_)"
      ],
      "metadata": {
        "colab": {
          "base_uri": "https://localhost:8080/"
        },
        "id": "oLg0FxcWcUs5",
        "outputId": "4943bcdb-2e5f-49d3-990b-e4d2845747c6"
      },
      "execution_count": 25,
      "outputs": [
        {
          "output_type": "stream",
          "name": "stdout",
          "text": [
            "Fitting 5 folds for each of 100 candidates, totalling 500 fits\n"
          ]
        },
        {
          "output_type": "stream",
          "name": "stderr",
          "text": [
            "/usr/local/lib/python3.10/dist-packages/joblib/externals/loky/backend/fork_exec.py:38: RuntimeWarning: os.fork() was called. os.fork() is incompatible with multithreaded code, and JAX is multithreaded, so this will likely lead to a deadlock.\n",
            "  pid = os.fork()\n",
            "/usr/local/lib/python3.10/dist-packages/sklearn/ensemble/_forest.py:424: FutureWarning: `max_features='auto'` has been deprecated in 1.1 and will be removed in 1.3. To keep the past behaviour, explicitly set `max_features='sqrt'` or remove this parameter as it is also the default value for RandomForestClassifiers and ExtraTreesClassifiers.\n",
            "  warn(\n"
          ]
        },
        {
          "output_type": "stream",
          "name": "stdout",
          "text": [
            "{'n_estimators': 300, 'min_samples_split': 10, 'min_samples_leaf': 2, 'max_features': 'auto', 'max_depth': 5, 'bootstrap': False}\n"
          ]
        }
      ]
    },
    {
      "cell_type": "code",
      "source": [
        "best_params = {\n",
        "    'n_estimators': 300,\n",
        "    'min_samples_split': 10,\n",
        "    'min_samples_leaf': 2,\n",
        "    'max_features': 'auto',\n",
        "    'max_depth': 5,\n",
        "    'bootstrap': False\n",
        "}"
      ],
      "metadata": {
        "id": "SAw4wi85isjU"
      },
      "execution_count": 26,
      "outputs": []
    },
    {
      "cell_type": "code",
      "source": [
        "rf_random_best = RandomForestClassifier(**best_params, random_state = 42)\n",
        "\n",
        "# Fit the model on your training data\n",
        "rf_random_best.fit(X_train, y_train)"
      ],
      "metadata": {
        "colab": {
          "base_uri": "https://localhost:8080/",
          "height": 166
        },
        "id": "pUtKhGwWm1FB",
        "outputId": "4133d26f-2168-4459-d76b-e1240b85f6b5"
      },
      "execution_count": 27,
      "outputs": [
        {
          "output_type": "stream",
          "name": "stderr",
          "text": [
            "/usr/local/lib/python3.10/dist-packages/sklearn/ensemble/_forest.py:424: FutureWarning: `max_features='auto'` has been deprecated in 1.1 and will be removed in 1.3. To keep the past behaviour, explicitly set `max_features='sqrt'` or remove this parameter as it is also the default value for RandomForestClassifiers and ExtraTreesClassifiers.\n",
            "  warn(\n"
          ]
        },
        {
          "output_type": "execute_result",
          "data": {
            "text/plain": [
              "RandomForestClassifier(bootstrap=False, max_depth=5, max_features='auto',\n",
              "                       min_samples_leaf=2, min_samples_split=10,\n",
              "                       n_estimators=300, random_state=42)"
            ],
            "text/html": [
              "<style>#sk-container-id-3 {color: black;background-color: white;}#sk-container-id-3 pre{padding: 0;}#sk-container-id-3 div.sk-toggleable {background-color: white;}#sk-container-id-3 label.sk-toggleable__label {cursor: pointer;display: block;width: 100%;margin-bottom: 0;padding: 0.3em;box-sizing: border-box;text-align: center;}#sk-container-id-3 label.sk-toggleable__label-arrow:before {content: \"▸\";float: left;margin-right: 0.25em;color: #696969;}#sk-container-id-3 label.sk-toggleable__label-arrow:hover:before {color: black;}#sk-container-id-3 div.sk-estimator:hover label.sk-toggleable__label-arrow:before {color: black;}#sk-container-id-3 div.sk-toggleable__content {max-height: 0;max-width: 0;overflow: hidden;text-align: left;background-color: #f0f8ff;}#sk-container-id-3 div.sk-toggleable__content pre {margin: 0.2em;color: black;border-radius: 0.25em;background-color: #f0f8ff;}#sk-container-id-3 input.sk-toggleable__control:checked~div.sk-toggleable__content {max-height: 200px;max-width: 100%;overflow: auto;}#sk-container-id-3 input.sk-toggleable__control:checked~label.sk-toggleable__label-arrow:before {content: \"▾\";}#sk-container-id-3 div.sk-estimator input.sk-toggleable__control:checked~label.sk-toggleable__label {background-color: #d4ebff;}#sk-container-id-3 div.sk-label input.sk-toggleable__control:checked~label.sk-toggleable__label {background-color: #d4ebff;}#sk-container-id-3 input.sk-hidden--visually {border: 0;clip: rect(1px 1px 1px 1px);clip: rect(1px, 1px, 1px, 1px);height: 1px;margin: -1px;overflow: hidden;padding: 0;position: absolute;width: 1px;}#sk-container-id-3 div.sk-estimator {font-family: monospace;background-color: #f0f8ff;border: 1px dotted black;border-radius: 0.25em;box-sizing: border-box;margin-bottom: 0.5em;}#sk-container-id-3 div.sk-estimator:hover {background-color: #d4ebff;}#sk-container-id-3 div.sk-parallel-item::after {content: \"\";width: 100%;border-bottom: 1px solid gray;flex-grow: 1;}#sk-container-id-3 div.sk-label:hover label.sk-toggleable__label {background-color: #d4ebff;}#sk-container-id-3 div.sk-serial::before {content: \"\";position: absolute;border-left: 1px solid gray;box-sizing: border-box;top: 0;bottom: 0;left: 50%;z-index: 0;}#sk-container-id-3 div.sk-serial {display: flex;flex-direction: column;align-items: center;background-color: white;padding-right: 0.2em;padding-left: 0.2em;position: relative;}#sk-container-id-3 div.sk-item {position: relative;z-index: 1;}#sk-container-id-3 div.sk-parallel {display: flex;align-items: stretch;justify-content: center;background-color: white;position: relative;}#sk-container-id-3 div.sk-item::before, #sk-container-id-3 div.sk-parallel-item::before {content: \"\";position: absolute;border-left: 1px solid gray;box-sizing: border-box;top: 0;bottom: 0;left: 50%;z-index: -1;}#sk-container-id-3 div.sk-parallel-item {display: flex;flex-direction: column;z-index: 1;position: relative;background-color: white;}#sk-container-id-3 div.sk-parallel-item:first-child::after {align-self: flex-end;width: 50%;}#sk-container-id-3 div.sk-parallel-item:last-child::after {align-self: flex-start;width: 50%;}#sk-container-id-3 div.sk-parallel-item:only-child::after {width: 0;}#sk-container-id-3 div.sk-dashed-wrapped {border: 1px dashed gray;margin: 0 0.4em 0.5em 0.4em;box-sizing: border-box;padding-bottom: 0.4em;background-color: white;}#sk-container-id-3 div.sk-label label {font-family: monospace;font-weight: bold;display: inline-block;line-height: 1.2em;}#sk-container-id-3 div.sk-label-container {text-align: center;}#sk-container-id-3 div.sk-container {/* jupyter's `normalize.less` sets `[hidden] { display: none; }` but bootstrap.min.css set `[hidden] { display: none !important; }` so we also need the `!important` here to be able to override the default hidden behavior on the sphinx rendered scikit-learn.org. See: https://github.com/scikit-learn/scikit-learn/issues/21755 */display: inline-block !important;position: relative;}#sk-container-id-3 div.sk-text-repr-fallback {display: none;}</style><div id=\"sk-container-id-3\" class=\"sk-top-container\"><div class=\"sk-text-repr-fallback\"><pre>RandomForestClassifier(bootstrap=False, max_depth=5, max_features=&#x27;auto&#x27;,\n",
              "                       min_samples_leaf=2, min_samples_split=10,\n",
              "                       n_estimators=300, random_state=42)</pre><b>In a Jupyter environment, please rerun this cell to show the HTML representation or trust the notebook. <br />On GitHub, the HTML representation is unable to render, please try loading this page with nbviewer.org.</b></div><div class=\"sk-container\" hidden><div class=\"sk-item\"><div class=\"sk-estimator sk-toggleable\"><input class=\"sk-toggleable__control sk-hidden--visually\" id=\"sk-estimator-id-3\" type=\"checkbox\" checked><label for=\"sk-estimator-id-3\" class=\"sk-toggleable__label sk-toggleable__label-arrow\">RandomForestClassifier</label><div class=\"sk-toggleable__content\"><pre>RandomForestClassifier(bootstrap=False, max_depth=5, max_features=&#x27;auto&#x27;,\n",
              "                       min_samples_leaf=2, min_samples_split=10,\n",
              "                       n_estimators=300, random_state=42)</pre></div></div></div></div></div>"
            ]
          },
          "metadata": {},
          "execution_count": 27
        }
      ]
    },
    {
      "cell_type": "markdown",
      "source": [
        "**Base Model**"
      ],
      "metadata": {
        "id": "gJXeDqYWhS-Z"
      }
    },
    {
      "cell_type": "code",
      "source": [
        "base_model = RandomForestClassifier(n_estimators = 100, random_state = 42)\n",
        "base_model.fit(X_train, y_train)"
      ],
      "metadata": {
        "colab": {
          "base_uri": "https://localhost:8080/",
          "height": 74
        },
        "id": "T-OQpefPhO2B",
        "outputId": "b87d4818-41f3-4324-bb44-4581ffa76782"
      },
      "execution_count": 28,
      "outputs": [
        {
          "output_type": "execute_result",
          "data": {
            "text/plain": [
              "RandomForestClassifier(random_state=42)"
            ],
            "text/html": [
              "<style>#sk-container-id-4 {color: black;background-color: white;}#sk-container-id-4 pre{padding: 0;}#sk-container-id-4 div.sk-toggleable {background-color: white;}#sk-container-id-4 label.sk-toggleable__label {cursor: pointer;display: block;width: 100%;margin-bottom: 0;padding: 0.3em;box-sizing: border-box;text-align: center;}#sk-container-id-4 label.sk-toggleable__label-arrow:before {content: \"▸\";float: left;margin-right: 0.25em;color: #696969;}#sk-container-id-4 label.sk-toggleable__label-arrow:hover:before {color: black;}#sk-container-id-4 div.sk-estimator:hover label.sk-toggleable__label-arrow:before {color: black;}#sk-container-id-4 div.sk-toggleable__content {max-height: 0;max-width: 0;overflow: hidden;text-align: left;background-color: #f0f8ff;}#sk-container-id-4 div.sk-toggleable__content pre {margin: 0.2em;color: black;border-radius: 0.25em;background-color: #f0f8ff;}#sk-container-id-4 input.sk-toggleable__control:checked~div.sk-toggleable__content {max-height: 200px;max-width: 100%;overflow: auto;}#sk-container-id-4 input.sk-toggleable__control:checked~label.sk-toggleable__label-arrow:before {content: \"▾\";}#sk-container-id-4 div.sk-estimator input.sk-toggleable__control:checked~label.sk-toggleable__label {background-color: #d4ebff;}#sk-container-id-4 div.sk-label input.sk-toggleable__control:checked~label.sk-toggleable__label {background-color: #d4ebff;}#sk-container-id-4 input.sk-hidden--visually {border: 0;clip: rect(1px 1px 1px 1px);clip: rect(1px, 1px, 1px, 1px);height: 1px;margin: -1px;overflow: hidden;padding: 0;position: absolute;width: 1px;}#sk-container-id-4 div.sk-estimator {font-family: monospace;background-color: #f0f8ff;border: 1px dotted black;border-radius: 0.25em;box-sizing: border-box;margin-bottom: 0.5em;}#sk-container-id-4 div.sk-estimator:hover {background-color: #d4ebff;}#sk-container-id-4 div.sk-parallel-item::after {content: \"\";width: 100%;border-bottom: 1px solid gray;flex-grow: 1;}#sk-container-id-4 div.sk-label:hover label.sk-toggleable__label {background-color: #d4ebff;}#sk-container-id-4 div.sk-serial::before {content: \"\";position: absolute;border-left: 1px solid gray;box-sizing: border-box;top: 0;bottom: 0;left: 50%;z-index: 0;}#sk-container-id-4 div.sk-serial {display: flex;flex-direction: column;align-items: center;background-color: white;padding-right: 0.2em;padding-left: 0.2em;position: relative;}#sk-container-id-4 div.sk-item {position: relative;z-index: 1;}#sk-container-id-4 div.sk-parallel {display: flex;align-items: stretch;justify-content: center;background-color: white;position: relative;}#sk-container-id-4 div.sk-item::before, #sk-container-id-4 div.sk-parallel-item::before {content: \"\";position: absolute;border-left: 1px solid gray;box-sizing: border-box;top: 0;bottom: 0;left: 50%;z-index: -1;}#sk-container-id-4 div.sk-parallel-item {display: flex;flex-direction: column;z-index: 1;position: relative;background-color: white;}#sk-container-id-4 div.sk-parallel-item:first-child::after {align-self: flex-end;width: 50%;}#sk-container-id-4 div.sk-parallel-item:last-child::after {align-self: flex-start;width: 50%;}#sk-container-id-4 div.sk-parallel-item:only-child::after {width: 0;}#sk-container-id-4 div.sk-dashed-wrapped {border: 1px dashed gray;margin: 0 0.4em 0.5em 0.4em;box-sizing: border-box;padding-bottom: 0.4em;background-color: white;}#sk-container-id-4 div.sk-label label {font-family: monospace;font-weight: bold;display: inline-block;line-height: 1.2em;}#sk-container-id-4 div.sk-label-container {text-align: center;}#sk-container-id-4 div.sk-container {/* jupyter's `normalize.less` sets `[hidden] { display: none; }` but bootstrap.min.css set `[hidden] { display: none !important; }` so we also need the `!important` here to be able to override the default hidden behavior on the sphinx rendered scikit-learn.org. See: https://github.com/scikit-learn/scikit-learn/issues/21755 */display: inline-block !important;position: relative;}#sk-container-id-4 div.sk-text-repr-fallback {display: none;}</style><div id=\"sk-container-id-4\" class=\"sk-top-container\"><div class=\"sk-text-repr-fallback\"><pre>RandomForestClassifier(random_state=42)</pre><b>In a Jupyter environment, please rerun this cell to show the HTML representation or trust the notebook. <br />On GitHub, the HTML representation is unable to render, please try loading this page with nbviewer.org.</b></div><div class=\"sk-container\" hidden><div class=\"sk-item\"><div class=\"sk-estimator sk-toggleable\"><input class=\"sk-toggleable__control sk-hidden--visually\" id=\"sk-estimator-id-4\" type=\"checkbox\" checked><label for=\"sk-estimator-id-4\" class=\"sk-toggleable__label sk-toggleable__label-arrow\">RandomForestClassifier</label><div class=\"sk-toggleable__content\"><pre>RandomForestClassifier(random_state=42)</pre></div></div></div></div></div>"
            ]
          },
          "metadata": {},
          "execution_count": 28
        }
      ]
    },
    {
      "cell_type": "markdown",
      "source": [
        "**Evaluation**"
      ],
      "metadata": {
        "id": "L441y2uAk0nT"
      }
    },
    {
      "cell_type": "code",
      "source": [
        "y_pred_1 = rf_random_best.predict(X_test)\n",
        "\n",
        "random_report = classification_report(y_test, y_pred_1)\n",
        "print(\"Random Search Model:\\n\", random_report)\n",
        "\n",
        "y_pred_2 = base_model.predict(X_test)\n",
        "\n",
        "base_report = classification_report(y_test, y_pred_2)\n",
        "print(\"Base Model:\\n\", base_report)\n"
      ],
      "metadata": {
        "colab": {
          "base_uri": "https://localhost:8080/"
        },
        "id": "xjbllLuHk3VW",
        "outputId": "fd9a371b-d4c7-4713-a6f0-b6640b0b74a6"
      },
      "execution_count": 29,
      "outputs": [
        {
          "output_type": "stream",
          "name": "stdout",
          "text": [
            "Random Search Model:\n",
            "               precision    recall  f1-score   support\n",
            "\n",
            "           0       0.89      0.97      0.93       233\n",
            "           1       0.95      0.81      0.88       143\n",
            "\n",
            "    accuracy                           0.91       376\n",
            "   macro avg       0.92      0.89      0.90       376\n",
            "weighted avg       0.92      0.91      0.91       376\n",
            "\n",
            "Base Model:\n",
            "               precision    recall  f1-score   support\n",
            "\n",
            "           0       0.89      0.97      0.93       233\n",
            "           1       0.95      0.81      0.88       143\n",
            "\n",
            "    accuracy                           0.91       376\n",
            "   macro avg       0.92      0.89      0.90       376\n",
            "weighted avg       0.92      0.91      0.91       376\n",
            "\n"
          ]
        }
      ]
    },
    {
      "cell_type": "markdown",
      "source": [
        "As we can see, there is a minimal difference between the base model and the random grid search model. Since the base model has a slightly better f1 score and recall for a positive diagnosis (class = 1), the base model is actually preferred. In general, whatever less is more in machine learning. If a base model is performing as well as or better than a more computationally expensive/complex model, the base model is preferred!"
      ],
      "metadata": {
        "id": "Fo7lrVZWl-u8"
      }
    },
    {
      "cell_type": "markdown",
      "source": [
        "# **XGBoost**"
      ],
      "metadata": {
        "id": "KZ8eD4KHrCIU"
      }
    },
    {
      "cell_type": "markdown",
      "source": [
        "An **ensemble method** like random forests, XGBoost uses multiple decision trees **sequentially** with each new tree correcting the previous errors of the combined earlier models but one step at a time. The trees are combined in a weighted manner to form a single strong model. XGBoost uses boosting, meaning it **combines weak learners sequentially** so that **each new tree corrects the errors of the previous one**.\n",
        "\n",
        "For multiclass classification, cross entropy is a popular choice. In our case we will use **log loss for binary classification**.\n",
        "\n",
        "We want the loss of the next tree to be such that it lowers the loss compared to the first tree alone. Mathematically speaking, we are **fitting the next tree to the gradient of the loss function with respect to the output of the previous model.**\n",
        "\n",
        "As stated earlier, this is a algorithms uses **SEQUENTIALLY trained models** (here we are using decision trees), and so this is how bagging and boosting differ. Boosting **gradually improves predictions** and **reduces bias** one model at a time whereas bagging uses multiple models equally to arrive at a final prediction. Keep reading for a deeper explanation of boosting!"
      ],
      "metadata": {
        "id": "CGh3frlWtEOT"
      }
    },
    {
      "cell_type": "markdown",
      "source": [
        "# Boosting\n",
        "\n",
        "Boosting is an ensemble learning technique that sequentially combines weak learners, typically decision trees, to create a strong predictive model. It iteratively trains models where each subsequent model corrects the errors of its predecessor by focusing on instances that were previously misclassified. Boosting assigns higher weights to misclassified instances, allowing subsequent models to prioritize learning from challenging cases. The final prediction is a weighted combination of predictions from all weak learners, often resulting in improved accuracy and robustness compared to individual models."
      ],
      "metadata": {
        "id": "G31E31nbXnVN"
      }
    },
    {
      "cell_type": "markdown",
      "source": [
        "**Optimization using Grid Search**"
      ],
      "metadata": {
        "id": "qYF-meVE1juH"
      }
    },
    {
      "cell_type": "code",
      "source": [
        "param_grid = {\n",
        "    'max_depth': [3,5,7],\n",
        "    'learning_rate': [0.1, 0.01, 0.0001],\n",
        "    'subsample': [0.5, 0.7, 1]\n",
        "}\n",
        "\n",
        "#addressing class imbalance\n",
        "scale_pos_weight = len(y_train[y_train == 0]) / len(y_train[y_train == 1])\n",
        "\n",
        "xgb_model = xgb.XGBClassifier(scale_pos_weight = scale_pos_weight)\n",
        "\n",
        "#this gives more weight to the positive classes since they are the minority class. So, when the model uses this weight in the loss function giving more attention to the minority class. Class imbalance\n",
        "#is an important and very common issue to address in medical data as the degree of prevalence is almost never balanced.\n",
        "\n",
        "grid_search = GridSearchCV(xgb_model, param_grid, cv = 5, scoring = 'accuracy')\n",
        "grid_search.fit(X_train, y_train)\n",
        "\n",
        "print(\"Best Parameters: \", grid_search.best_params_)"
      ],
      "metadata": {
        "colab": {
          "base_uri": "https://localhost:8080/"
        },
        "id": "obpJ6pDz1Iun",
        "outputId": "37043e36-de29-407a-80dc-e48cded55bc1"
      },
      "execution_count": 30,
      "outputs": [
        {
          "output_type": "stream",
          "name": "stdout",
          "text": [
            "Best Parameters:  {'learning_rate': 0.01, 'max_depth': 7, 'subsample': 1}\n"
          ]
        }
      ]
    },
    {
      "cell_type": "code",
      "source": [
        "np.random.seed(42)\n",
        "\n",
        "Grid_Best_Params = {'learning_rate': 0.01,\n",
        "                    'max_depth': 7,\n",
        "                    'subsample': 1}\n",
        "\n",
        "xgb_model = xgb.XGBClassifier(**Grid_Best_Params, scale_pos_weight = scale_pos_weight, random_state = 42)\n",
        "xgb_model.fit(X_train, y_train)\n",
        "y_pred = xgb_model.predict(X_test)\n",
        "\n",
        "grid_report = classification_report(y_test, y_pred)\n",
        "print(grid_report)"
      ],
      "metadata": {
        "colab": {
          "base_uri": "https://localhost:8080/"
        },
        "id": "69kqdBlj9i2r",
        "outputId": "a0e15c11-6d6d-4667-fa3b-c80d9d6d40a5"
      },
      "execution_count": 37,
      "outputs": [
        {
          "output_type": "stream",
          "name": "stdout",
          "text": [
            "              precision    recall  f1-score   support\n",
            "\n",
            "           0       0.91      0.96      0.94       233\n",
            "           1       0.93      0.85      0.89       143\n",
            "\n",
            "    accuracy                           0.92       376\n",
            "   macro avg       0.92      0.90      0.91       376\n",
            "weighted avg       0.92      0.92      0.92       376\n",
            "\n"
          ]
        }
      ]
    },
    {
      "cell_type": "markdown",
      "source": [
        "**Bayesian Optimization**\n",
        "\n",
        "Bayesian Optimization finds the best hyperparameters by learning from previous results, making it more efficient than random and grid search. It balances exploration (trying new things) with exploitation (using what works best so far), improving search efficiency. However, it's more computationally intensive. Unlike random and grid search, Bayesian Optimization uses past evaluations to guide its search, learning from successes and failures to suggest better hyperparameter choices. It builds a predictive model based on these evaluations (called the objective function), using it to decide the next set of hyperparameters to try. This iterative process continues until it finds the optimal settings or reaches a stopping point."
      ],
      "metadata": {
        "id": "jARCR5PQ7td5"
      }
    },
    {
      "cell_type": "code",
      "source": [
        "np.random.seed(42)\n",
        "\n",
        "search_space = {\n",
        "    'max_depth': hp.choice('max_depth', range(2, 9)),\n",
        "    'learning_rate': hp.loguniform('learning_rate', -5, -2),\n",
        "    'subsample': hp.uniform('subsample', 0.5, 1)\n",
        "}\n",
        "\n",
        "#function we want to minimize\n",
        "\n",
        "def function(params):\n",
        "  xgb_model = xgb.XGBClassifier(**params, scale_pos_weight = scale_pos_weight, random_state = 42)\n",
        "  xgb_model.fit(X_train, y_train)\n",
        "  y_pred = xgb_model.predict(X_test)\n",
        "  score = accuracy_score(y_test, y_pred)\n",
        "  return {'loss': -score, 'status': STATUS_OK}\n",
        "\n",
        "best_params = fmin(function, search_space, algo = tpe.suggest, max_evals = 100)\n",
        "print(\"Best parameters: \", best_params)\n"
      ],
      "metadata": {
        "colab": {
          "base_uri": "https://localhost:8080/"
        },
        "id": "CRPepNEq8Plc",
        "outputId": "a8ffec3c-6a8f-4878-9827-776f0b5d413f"
      },
      "execution_count": 41,
      "outputs": [
        {
          "output_type": "stream",
          "name": "stdout",
          "text": [
            "100%|██████████| 100/100 [01:25<00:00,  1.17trial/s, best loss: -0.9361702127659575]\n",
            "Best parameters:  {'learning_rate': 0.008421235761586742, 'max_depth': 4, 'subsample': 0.77506418972496}\n"
          ]
        }
      ]
    },
    {
      "cell_type": "markdown",
      "source": [
        "*please ignore the best parameters above. The bayesian optimization previously found the parameters below to be the best parameters and I kept those since they gave me the best classification report metrics!*"
      ],
      "metadata": {
        "id": "mTVkndkFQT04"
      }
    },
    {
      "cell_type": "code",
      "source": [
        "Bayesian_Best_Params = {'learning_rate': 0.13300842846099614,\n",
        "                        'max_depth': 6,\n",
        "                        'subsample': 0.9895822593747372}\n",
        "\n",
        "xgb_model = xgb.XGBClassifier(**Bayesian_Best_Params, scale_pos_weight = scale_pos_weight, random_state = 42)\n",
        "xgb_model.fit(X_train, y_train)\n",
        "\n",
        "y_pred = xgb_model.predict(X_test)\n",
        "\n",
        "bayes_report = classification_report(y_test, y_pred)\n",
        "print(bayes_report)"
      ],
      "metadata": {
        "colab": {
          "base_uri": "https://localhost:8080/"
        },
        "id": "_-drWL-fBRvH",
        "outputId": "6683c33f-7690-4f97-e83f-cb3e10cdab75"
      },
      "execution_count": 43,
      "outputs": [
        {
          "output_type": "stream",
          "name": "stdout",
          "text": [
            "              precision    recall  f1-score   support\n",
            "\n",
            "           0       0.92      0.97      0.94       233\n",
            "           1       0.94      0.87      0.90       143\n",
            "\n",
            "    accuracy                           0.93       376\n",
            "   macro avg       0.93      0.92      0.92       376\n",
            "weighted avg       0.93      0.93      0.93       376\n",
            "\n"
          ]
        }
      ]
    },
    {
      "cell_type": "markdown",
      "source": [
        "Cool! Bayesian Optimization gave us 1% better accuracy, as well as all slightly better precision, recall and fl-scores!"
      ],
      "metadata": {
        "id": "RmN9CwojBr6b"
      }
    },
    {
      "cell_type": "markdown",
      "source": [
        "# **Deep Learning (Feed Forward Neural Network)**"
      ],
      "metadata": {
        "id": "k3mMSOQZB3pi"
      }
    },
    {
      "cell_type": "markdown",
      "source": [
        "**Feed Forward Neural Network(FFNN)** using simple forward propogation (input -> hidden layers where tranformations occur (activation/dropout) -> output layer\n",
        "\n",
        "--------------------------------------------------------------------------------\n",
        "\n",
        "Layer type: **Dense**\n",
        "\n",
        "Dense layers are layers in which every neuron in that layer receives input (is connected to) every neuron in the previous layer.\n",
        "\n",
        "--------------------------------------------------------------------------------\n",
        "\n",
        "Regularization Technique: **Dropout**\n",
        "\n",
        "Dropout is a **regularization technique** used in neural networks to **mitigate overfitting** by **randomly deactivating neurons** during **training**. When a mini-batch of data is processed, Dropout **independently selects a subset of neurons in each specified layer** and **sets their outputs to zero**, according to the dropout rate specified (e.g., 0.5 for 50% dropout). This stochastic dropout process **prevents neurons from becoming overly dependent on specific features** in the training data, encouraging the network to **learn more generalized representations**. By reducing the co-adaptation of neurons to the training set, Dropout **enhances the model's ability to generalize** to new, unseen data, thus improving its overall performance and robustness in various machine learning tasks.\n",
        "\n",
        "--------------------------------------------------------------------------------\n",
        "\n",
        "**Early stopping** is a callback technique in machine learning where the **training** of a model is **halted prematurely** based on its performance on a validation dataset. By monitoring metrics like **accuracy or loss** on the validation set during training, early stopping **aims to prevent overfitting**. It stops training when the model's performance on the validation data **stops improving**, thus ensuring **better generalization** to new, unseen data and **optimizing training efficiency**.\n",
        "\n",
        "If **patience** = 3 (like we use in this NN), the training will stop if the accuracy on the validation set does not improve after three epochs. You can also use accuracy instead of val_loss, but here I chose val_loss.\n",
        "\n",
        "--------------------------------------------------------------------------------"
      ],
      "metadata": {
        "id": "DNAO6dNvcVU2"
      }
    },
    {
      "cell_type": "code",
      "source": [
        "encoded_categorical_data = pd.get_dummies(categorical_variables)\n",
        "\n",
        "data = pd.concat([continuous_variables, encoded_categorical_data], axis = 1)\n",
        "\n",
        "X = data.drop('Diagnosis', axis = 1)\n",
        "y = data['Diagnosis']\n",
        "\n",
        "X_train, X_test, y_train, y_test = train_test_split(X, y, test_size = 0.2, random_state = 42)\n",
        "X_train, X_val, y_train, y_val = train_test_split(X_train, y_train, test_size=0.2, random_state = 42)\n",
        "\n",
        "scaler = StandardScaler()\n",
        "columns_to_scale = continuous_variables.columns\n",
        "\n",
        "X_train[columns_to_scale] = scaler.fit_transform(X_train[columns_to_scale])\n",
        "X_val[columns_to_scale] = scaler.fit_transform(X_val[columns_to_scale])\n",
        "X_test[columns_to_scale] = scaler.fit_transform(X_test[columns_to_scale])"
      ],
      "metadata": {
        "id": "mp1uKTjYjsSH"
      },
      "execution_count": 44,
      "outputs": []
    },
    {
      "cell_type": "code",
      "source": [
        "NN = Sequential()\n",
        "\n",
        "#input layer\n",
        "NN.add(Dense(256, input_dim = X_train.shape[1], activation = 'relu', kernel_regularizer=l1(0.01)))\n",
        "\n",
        "#hidden layers\n",
        "NN.add(Dense(256, activation= 'relu', kernel_regularizer=l1(0.001)))\n",
        "NN.add(Dropout(0.5))\n",
        "\n",
        "NN.add(Dense(128, activation= 'relu', kernel_regularizer=l1(0.001)))\n",
        "NN.add(Dropout(0.5))\n",
        "\n",
        "NN.add(Dense(64, activation = 'relu', kernel_regularizer=l1(0.001)))\n",
        "\n",
        "#output layer\n",
        "NN.add(Dense(1, activation = 'sigmoid'))\n",
        "\n",
        "#compile the model\n",
        "NN.compile(optimizer = 'adam', loss = 'binary_crossentropy', metrics = ['accuracy'])\n",
        "\n",
        "#early stopping\n",
        "early_stopping = EarlyStopping(monitor = 'val_loss', patience = 3, restore_best_weights = True)\n",
        "\n",
        "#model summary\n",
        "NN.summary()\n",
        "\n",
        "#addressing class imbalance\n",
        "class_weights = class_weight.compute_class_weight(class_weight='balanced', classes = np.unique(y_train), y = y_train)\n",
        "class_weights_dict = dict(enumerate(class_weights))\n",
        "\n",
        "history = NN.fit(X_train, y_train, epochs = 50, batch_size = 32, validation_data = (X_val, y_val), class_weight = class_weights_dict, callbacks = [early_stopping])\n",
        "\n",
        "#evaluate model\n",
        "loss, accuracy = NN.evaluate(X_test, y_test)\n",
        "print(f'Test Loss: {loss}, Test Accuracy: {accuracy}')"
      ],
      "metadata": {
        "colab": {
          "base_uri": "https://localhost:8080/"
        },
        "id": "q-zIOmFbZiGC",
        "outputId": "fa6865af-9791-44f6-f87f-9e2b970a0758"
      },
      "execution_count": 45,
      "outputs": [
        {
          "output_type": "stream",
          "name": "stdout",
          "text": [
            "Model: \"sequential\"\n",
            "_________________________________________________________________\n",
            " Layer (type)                Output Shape              Param #   \n",
            "=================================================================\n",
            " dense (Dense)               (None, 256)               11264     \n",
            "                                                                 \n",
            " dense_1 (Dense)             (None, 256)               65792     \n",
            "                                                                 \n",
            " dropout (Dropout)           (None, 256)               0         \n",
            "                                                                 \n",
            " dense_2 (Dense)             (None, 128)               32896     \n",
            "                                                                 \n",
            " dropout_1 (Dropout)         (None, 128)               0         \n",
            "                                                                 \n",
            " dense_3 (Dense)             (None, 64)                8256      \n",
            "                                                                 \n",
            " dense_4 (Dense)             (None, 1)                 65        \n",
            "                                                                 \n",
            "=================================================================\n",
            "Total params: 118273 (462.00 KB)\n",
            "Trainable params: 118273 (462.00 KB)\n",
            "Non-trainable params: 0 (0.00 Byte)\n",
            "_________________________________________________________________\n",
            "Epoch 1/50\n",
            "38/38 [==============================] - 4s 16ms/step - loss: 11.9417 - accuracy: 0.5782 - val_loss: 9.1113 - val_accuracy: 0.8140\n",
            "Epoch 2/50\n",
            "38/38 [==============================] - 0s 8ms/step - loss: 6.9558 - accuracy: 0.7213 - val_loss: 4.8595 - val_accuracy: 0.8106\n",
            "Epoch 3/50\n",
            "38/38 [==============================] - 0s 7ms/step - loss: 3.5259 - accuracy: 0.7745 - val_loss: 2.3495 - val_accuracy: 0.7807\n",
            "Epoch 4/50\n",
            "38/38 [==============================] - 0s 7ms/step - loss: 1.7536 - accuracy: 0.8020 - val_loss: 1.3446 - val_accuracy: 0.7907\n",
            "Epoch 5/50\n",
            "38/38 [==============================] - 0s 8ms/step - loss: 1.1422 - accuracy: 0.8195 - val_loss: 0.9860 - val_accuracy: 0.8173\n",
            "Epoch 6/50\n",
            "38/38 [==============================] - 0s 7ms/step - loss: 0.9250 - accuracy: 0.8153 - val_loss: 0.8338 - val_accuracy: 0.8306\n",
            "Epoch 7/50\n",
            "38/38 [==============================] - 0s 7ms/step - loss: 0.8100 - accuracy: 0.8319 - val_loss: 0.7468 - val_accuracy: 0.8472\n",
            "Epoch 8/50\n",
            "38/38 [==============================] - 0s 10ms/step - loss: 0.7342 - accuracy: 0.8394 - val_loss: 0.6985 - val_accuracy: 0.8505\n",
            "Epoch 9/50\n",
            "38/38 [==============================] - 0s 10ms/step - loss: 0.7025 - accuracy: 0.8369 - val_loss: 0.6662 - val_accuracy: 0.8505\n",
            "Epoch 10/50\n",
            "38/38 [==============================] - 0s 11ms/step - loss: 0.6766 - accuracy: 0.8486 - val_loss: 0.6487 - val_accuracy: 0.8538\n",
            "Epoch 11/50\n",
            "38/38 [==============================] - 0s 12ms/step - loss: 0.6415 - accuracy: 0.8502 - val_loss: 0.6536 - val_accuracy: 0.8239\n",
            "Epoch 12/50\n",
            "38/38 [==============================] - 0s 11ms/step - loss: 0.6263 - accuracy: 0.8486 - val_loss: 0.6135 - val_accuracy: 0.8605\n",
            "Epoch 13/50\n",
            "38/38 [==============================] - 0s 12ms/step - loss: 0.6315 - accuracy: 0.8619 - val_loss: 0.6344 - val_accuracy: 0.8405\n",
            "Epoch 14/50\n",
            "38/38 [==============================] - 0s 12ms/step - loss: 0.6093 - accuracy: 0.8561 - val_loss: 0.5961 - val_accuracy: 0.8571\n",
            "Epoch 15/50\n",
            "38/38 [==============================] - 0s 10ms/step - loss: 0.5767 - accuracy: 0.8727 - val_loss: 0.6021 - val_accuracy: 0.8405\n",
            "Epoch 16/50\n",
            "38/38 [==============================] - 0s 8ms/step - loss: 0.5786 - accuracy: 0.8636 - val_loss: 0.5921 - val_accuracy: 0.8272\n",
            "Epoch 17/50\n",
            "38/38 [==============================] - 0s 7ms/step - loss: 0.5746 - accuracy: 0.8719 - val_loss: 0.5872 - val_accuracy: 0.8505\n",
            "Epoch 18/50\n",
            "38/38 [==============================] - 0s 13ms/step - loss: 0.5688 - accuracy: 0.8719 - val_loss: 0.5821 - val_accuracy: 0.8372\n",
            "Epoch 19/50\n",
            "38/38 [==============================] - 0s 11ms/step - loss: 0.5580 - accuracy: 0.8602 - val_loss: 0.5603 - val_accuracy: 0.8538\n",
            "Epoch 20/50\n",
            "38/38 [==============================] - 0s 7ms/step - loss: 0.5346 - accuracy: 0.8777 - val_loss: 0.5594 - val_accuracy: 0.8538\n",
            "Epoch 21/50\n",
            "38/38 [==============================] - 0s 7ms/step - loss: 0.5460 - accuracy: 0.8602 - val_loss: 0.5611 - val_accuracy: 0.8505\n",
            "Epoch 22/50\n",
            "38/38 [==============================] - 0s 8ms/step - loss: 0.5437 - accuracy: 0.8744 - val_loss: 0.5651 - val_accuracy: 0.8439\n",
            "Epoch 23/50\n",
            "38/38 [==============================] - 0s 9ms/step - loss: 0.5396 - accuracy: 0.8752 - val_loss: 0.5500 - val_accuracy: 0.8505\n",
            "Epoch 24/50\n",
            "38/38 [==============================] - 0s 8ms/step - loss: 0.5324 - accuracy: 0.8827 - val_loss: 0.5826 - val_accuracy: 0.8272\n",
            "Epoch 25/50\n",
            "38/38 [==============================] - 0s 8ms/step - loss: 0.5253 - accuracy: 0.8744 - val_loss: 0.5538 - val_accuracy: 0.8538\n",
            "Epoch 26/50\n",
            "38/38 [==============================] - 0s 10ms/step - loss: 0.5332 - accuracy: 0.8752 - val_loss: 0.5512 - val_accuracy: 0.8439\n",
            "12/12 [==============================] - 0s 6ms/step - loss: 0.5380 - accuracy: 0.8617\n",
            "Test Loss: 0.5379528999328613, Test Accuracy: 0.8617021441459656\n"
          ]
        }
      ]
    },
    {
      "cell_type": "code",
      "source": [
        "y_pred_prob = NN.predict(X_test)\n",
        "y_pred = (y_pred_prob > 0.5).astype(\"int32\")\n",
        "\n",
        "NN_report = classification_report(y_test, y_pred)\n",
        "print(\"FFNN classification report:\", NN_report)"
      ],
      "metadata": {
        "colab": {
          "base_uri": "https://localhost:8080/"
        },
        "id": "E-qALJN99Q3g",
        "outputId": "624a84b0-ecfe-431c-914f-8d563e650f39"
      },
      "execution_count": 47,
      "outputs": [
        {
          "output_type": "stream",
          "name": "stdout",
          "text": [
            "12/12 [==============================] - 0s 7ms/step\n",
            "FFNN classification report:               precision    recall  f1-score   support\n",
            "\n",
            "           0       0.92      0.85      0.88       233\n",
            "           1       0.79      0.87      0.83       143\n",
            "\n",
            "    accuracy                           0.86       376\n",
            "   macro avg       0.85      0.86      0.86       376\n",
            "weighted avg       0.87      0.86      0.86       376\n",
            "\n"
          ]
        }
      ]
    },
    {
      "cell_type": "markdown",
      "source": [
        "Not bad! However, all three of our previous models gave an accuracy in the 90%-100% range."
      ],
      "metadata": {
        "id": "GrOa-eK4ga6j"
      }
    },
    {
      "cell_type": "markdown",
      "source": [
        "# **Choosing the Best Model**"
      ],
      "metadata": {
        "id": "e74TA3Pugosz"
      }
    },
    {
      "cell_type": "markdown",
      "source": [
        "After comparing the evaluation metrics of all models, the **XGBoost** model using **Bayesian Optimization** is the best model. It has the best accuracy, recall, precision and F1 scores across all five of the models. I wont take computational expense into account as none of these models took particularly long to train. The only process that took about 10 minutes was the random grid search for the random forest.\n",
        "\n",
        "Let us also acknowledge the domain of our data. Diagnosing any disease/condition is a careful process, one that can't simply be a guessing game. Here, we attempt to build machine learning models that can predict the diagnosis of a patient.\n",
        "\n",
        "This in mind, it important we **minimize false negatives**. In this context it means diagnosing a patient as nondiabetic when truly they are diabetic. The XGBoost with Bayesian Optimization exhibits a recall of .87 for patients with Diabetes. Since a higher recall means less false negatives, we want to prioritize this evaluation metric.\n",
        "\n",
        "**False Negatives = (true positives / recall) - true positives**\n",
        "\n",
        "This can be absolutely detrimental to the patient's health as they would not receive the proper medical treatment. It is crucial to understand that while ML can be used to build models able to make predictions as well as a doctor would, further medical intervention/testing should always be used to confirm the status of a patient's heath."
      ],
      "metadata": {
        "id": "R7S3CC4zgu88"
      }
    }
  ]
}